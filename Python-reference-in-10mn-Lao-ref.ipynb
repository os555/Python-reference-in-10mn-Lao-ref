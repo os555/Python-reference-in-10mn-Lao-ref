{
  "nbformat": 4,
  "nbformat_minor": 0,
  "metadata": {
    "colab": {
      "name": "Python-reference.ipynb",
      "version": "0.3.2",
      "views": {},
      "default_view": {},
      "provenance": [],
      "collapsed_sections": [
        "CI05woeBTSXH"
      ]
    },
    "kernelspec": {
      "display_name": "Python 2",
      "language": "python",
      "name": "python2"
    }
  },
  "cells": [
    {
      "metadata": {
        "id": "dOusobo2TSOS",
        "colab_type": "text"
      },
      "cell_type": "markdown",
      "source": [
        "# Python ໃນ 10 ນາທີ ໂດຍ: ລຸງໂອ້ດ \n",
        "\n",
        "## Table of contents\n",
        "\n",
        "1. <a href=\"#1.-Imports\">Imports</a>\n",
        "2. <a href=\"#2.-Data-Types\">Data Types</a>\n",
        "3. <a href=\"#3.-Math\">Math</a>\n",
        "4. <a href=\"#4.-Comparisons-and-Boolean-Operations\">Comparisons and Boolean Operations</a>\n",
        "5. <a href=\"#5.-Conditional-Statements\">Conditional Statements</a>\n",
        "6. <a href=\"#6.-Lists\">Lists</a>\n",
        "7. <a href=\"#7.-Tuples\">Tuples</a>\n",
        "8. <a href=\"#8.-Strings\">Strings</a>\n",
        "9. <a href=\"#9.-Dictionaries\">Dictionaries</a>\n",
        "10. <a href=\"#10.-Sets\">Sets</a>\n",
        "11. <a href=\"#11.-Defining-Functions\">Defining Functions</a>\n",
        "12. <a href=\"#12.-Anonymous-%28Lambda%29-Functions\">Anonymous (Lambda) Functions</a>\n",
        "13. <a href=\"#13.-For-Loops-and-While-Loops\">For Loops and While Loops</a>\n",
        "14. <a href=\"#14.-Comprehensions\">Comprehensions</a>\n",
        "15. <a href=\"#15.-Map-and-Filter\">Map and Filter</a>\n",
        "\n",
        "## Credit: [Data School](http://www.dataschool.io/)\n",
        "\n",
        "**Related:** [GitHub repository](https://github.com/justmarkham/python-reference) and [blog post](http://www.dataschool.io/python-quick-reference/)"
      ]
    },
    {
      "metadata": {
        "id": "BYmXZjsdTSOW",
        "colab_type": "text"
      },
      "cell_type": "markdown",
      "source": [
        "## 1. Imports ( ການເອີ້ນເອົາ Modules, Lib ຕ່າງໆເຂົ້າມາໃຊ້ງານ)"
      ]
    },
    {
      "metadata": {
        "id": "_ShULU_oTSOY",
        "colab_type": "code",
        "colab": {
          "autoexec": {
            "startup": false,
            "wait_interval": 0
          },
          "base_uri": "https://localhost:8080/",
          "height": 34
        },
        "outputId": "4cb577e5-f097-4441-f4a5-f9bccf93887b",
        "executionInfo": {
          "status": "ok",
          "timestamp": 1526714954012,
          "user_tz": -420,
          "elapsed": 1080,
          "user": {
            "displayName": "Outhai SAIOUDOM",
            "photoUrl": "//lh5.googleusercontent.com/-v5oasHENJGw/AAAAAAAAAAI/AAAAAAAAisk/iv-oY523D3o/s50-c-k-no/photo.jpg",
            "userId": "117242230221113736584"
          }
        }
      },
      "cell_type": "code",
      "source": [
        "# 'ນຳເອົາຟັງຊັ່ນໃນການຄຳນວນທາງຄະນິດສາດເຂົ້າມາໃຊ້ງານຊັ່ນໃນລຸ່ມນີ້ import math ແລ້ວກໍໃຊ້ງານການສັ່ງໃຫ້ ຖອນຮາກຂັ້ນສອງ ດ້ວຍ math.sqrt(25)\n",
        "import math\n",
        "math.sqrt(25)"
      ],
      "execution_count": 1,
      "outputs": [
        {
          "output_type": "execute_result",
          "data": {
            "text/plain": [
              "5.0"
            ]
          },
          "metadata": {
            "tags": []
          },
          "execution_count": 1
        }
      ]
    },
    {
      "metadata": {
        "id": "W47HSxa4TSOp",
        "colab_type": "code",
        "colab": {
          "autoexec": {
            "startup": false,
            "wait_interval": 0
          }
        },
        "outputId": "4b87e1fd-7aba-437c-d42b-328e3352957e"
      },
      "cell_type": "code",
      "source": [
        "# import ເຂົ້າແບບເປັນສະເພາະຟັງຊັ່ນເລີຍ\n",
        "from math import sqrt\n",
        "sqrt(25)    # ຈະເຫັນວ່າບໍ່ຕ້ອງອ້າງອີງຫາ math ເລີຍ"
      ],
      "execution_count": 0,
      "outputs": [
        {
          "output_type": "execute_result",
          "data": {
            "text/plain": [
              "5.0"
            ]
          },
          "metadata": {
            "tags": []
          },
          "execution_count": 2
        }
      ]
    },
    {
      "metadata": {
        "id": "KAG_v6CTTSOz",
        "colab_type": "code",
        "colab": {
          "autoexec": {
            "startup": false,
            "wait_interval": 0
          }
        }
      },
      "cell_type": "code",
      "source": [
        "# import ຫລາຍຟັງຊັ່ນພ້ອມກັນບາດດຽວ\n",
        "from math import cos, floor #ນຳເຂົ້າຈາກໂມດູນ ສອງຟັງຊັ່ນ ໂກສ ກັບໄລ່ແບບບໍ່ເອົາຈຸດ"
      ],
      "execution_count": 0,
      "outputs": []
    },
    {
      "metadata": {
        "id": "n0h8uaRVTSO6",
        "colab_type": "code",
        "colab": {
          "autoexec": {
            "startup": false,
            "wait_interval": 0
          }
        }
      },
      "cell_type": "code",
      "source": [
        "# import all functions in a module (generally discouraged)\n",
        "from csv import *"
      ],
      "execution_count": 0,
      "outputs": []
    },
    {
      "metadata": {
        "id": "v0XxAZJfTSO_",
        "colab_type": "code",
        "colab": {
          "autoexec": {
            "startup": false,
            "wait_interval": 0
          },
          "base_uri": "https://localhost:8080/",
          "height": 34
        },
        "outputId": "e208e118-1ccf-400c-dab1-ddc8e0f32774",
        "executionInfo": {
          "status": "ok",
          "timestamp": 1526716401242,
          "user_tz": -420,
          "elapsed": 860,
          "user": {
            "displayName": "Outhai SAIOUDOM",
            "photoUrl": "//lh5.googleusercontent.com/-v5oasHENJGw/AAAAAAAAAAI/AAAAAAAAisk/iv-oY523D3o/s50-c-k-no/photo.jpg",
            "userId": "117242230221113736584"
          }
        }
      },
      "cell_type": "code",
      "source": [
        "# define an alias ນຳເຂົ້າມາແລະປະກາດເປັນໂຕປ່ຽນອື່ນ ເຊັ່ນ datetime as dt\n",
        "import datetime as dt\n",
        "print(dt.datetime.now())"
      ],
      "execution_count": 19,
      "outputs": [
        {
          "output_type": "stream",
          "text": [
            "2018-05-19 07:53:20.683005\n"
          ],
          "name": "stdout"
        }
      ]
    },
    {
      "metadata": {
        "id": "08Fib22rTSPF",
        "colab_type": "code",
        "colab": {
          "autoexec": {
            "startup": false,
            "wait_interval": 0
          },
          "base_uri": "https://localhost:8080/",
          "height": 54
        },
        "outputId": "72ed060a-6aae-4111-c3b0-14440a558dea",
        "executionInfo": {
          "status": "ok",
          "timestamp": 1526716398661,
          "user_tz": -420,
          "elapsed": 1160,
          "user": {
            "displayName": "Outhai SAIOUDOM",
            "photoUrl": "//lh5.googleusercontent.com/-v5oasHENJGw/AAAAAAAAAAI/AAAAAAAAisk/iv-oY523D3o/s50-c-k-no/photo.jpg",
            "userId": "117242230221113736584"
          }
        }
      },
      "cell_type": "code",
      "source": [
        "# show all functions in math module\n",
        "#ເອົາໄວ້ສະແດງວ່າໂມດູນທີ່ເຮົາເອົາເຂົ້າມານັ້ນມີຟັງຊັ່ນໃດແດ່ ດ້ວຍຄຳສັ່ງ print(dir(ຊື່ໂມດູນ))\n",
        "print(dir(math))"
      ],
      "execution_count": 18,
      "outputs": [
        {
          "output_type": "stream",
          "text": [
            "['__doc__', '__name__', '__package__', 'acos', 'acosh', 'asin', 'asinh', 'atan', 'atan2', 'atanh', 'ceil', 'copysign', 'cos', 'cosh', 'degrees', 'e', 'erf', 'erfc', 'exp', 'expm1', 'fabs', 'factorial', 'floor', 'fmod', 'frexp', 'fsum', 'gamma', 'hypot', 'isinf', 'isnan', 'ldexp', 'lgamma', 'log', 'log10', 'log1p', 'modf', 'pi', 'pow', 'radians', 'sin', 'sinh', 'sqrt', 'tan', 'tanh', 'trunc']\n"
          ],
          "name": "stdout"
        }
      ]
    },
    {
      "metadata": {
        "id": "tiKLFwB3TSPQ",
        "colab_type": "text"
      },
      "cell_type": "markdown",
      "source": [
        "[<a href=\"#Python-Quick-Reference-by-Data-School\">Back to top</a>]"
      ]
    },
    {
      "metadata": {
        "id": "R7omcuj3TSPR",
        "colab_type": "text"
      },
      "cell_type": "markdown",
      "source": [
        "## 2. Variable / Data Types (ປະເພດຂອງຂໍ້ມູນທີ່ໃຊ້ໃນ Python)\n",
        "\n",
        "**Determine the type of an object:**"
      ]
    },
    {
      "metadata": {
        "id": "zxLm4_udTSPU",
        "colab_type": "code",
        "colab": {
          "autoexec": {
            "startup": false,
            "wait_interval": 0
          },
          "base_uri": "https://localhost:8080/",
          "height": 34
        },
        "outputId": "6c610c35-ce91-440a-fd72-e06f9778e8f6",
        "executionInfo": {
          "status": "ok",
          "timestamp": 1526716666355,
          "user_tz": -420,
          "elapsed": 1388,
          "user": {
            "displayName": "Outhai SAIOUDOM",
            "photoUrl": "//lh5.googleusercontent.com/-v5oasHENJGw/AAAAAAAAAAI/AAAAAAAAisk/iv-oY523D3o/s50-c-k-no/photo.jpg",
            "userId": "117242230221113736584"
          }
        }
      },
      "cell_type": "code",
      "source": [
        "# ໂຕເລກຖ້ວນ\n",
        "type(2)"
      ],
      "execution_count": 20,
      "outputs": [
        {
          "output_type": "execute_result",
          "data": {
            "text/plain": [
              "int"
            ]
          },
          "metadata": {
            "tags": []
          },
          "execution_count": 20
        }
      ]
    },
    {
      "metadata": {
        "id": "b24eJkFnTSPk",
        "colab_type": "code",
        "colab": {
          "autoexec": {
            "startup": false,
            "wait_interval": 0
          }
        },
        "outputId": "5b90eec4-c305-4512-f1b8-9519b9d8955a"
      },
      "cell_type": "code",
      "source": [
        "# ໂຕເລກທົດສະນິຍົມ 1, 200, 1024\n",
        "type(2.0)"
      ],
      "execution_count": 0,
      "outputs": [
        {
          "output_type": "execute_result",
          "data": {
            "text/plain": [
              "float"
            ]
          },
          "metadata": {
            "tags": []
          },
          "execution_count": 8
        }
      ]
    },
    {
      "metadata": {
        "id": "sZC7e_F1TSPs",
        "colab_type": "code",
        "colab": {
          "autoexec": {
            "startup": false,
            "wait_interval": 0
          }
        },
        "outputId": "c4a23f39-9c10-4dca-be25-f0057d2c7ba7"
      },
      "cell_type": "code",
      "source": [
        "# ໂຕອັກສອນ \n",
        "type('two')"
      ],
      "execution_count": 0,
      "outputs": [
        {
          "output_type": "execute_result",
          "data": {
            "text/plain": [
              "str"
            ]
          },
          "metadata": {
            "tags": []
          },
          "execution_count": 9
        }
      ]
    },
    {
      "metadata": {
        "id": "OyQWifWYTSP1",
        "colab_type": "code",
        "colab": {
          "autoexec": {
            "startup": false,
            "wait_interval": 0
          }
        },
        "outputId": "e04cdfd5-6ae8-48b5-e44c-9d2263f1c967"
      },
      "cell_type": "code",
      "source": [
        "# ໂຕເລືອກຖືຜິດ Booline\n",
        "type(True)"
      ],
      "execution_count": 0,
      "outputs": [
        {
          "output_type": "execute_result",
          "data": {
            "text/plain": [
              "bool"
            ]
          },
          "metadata": {
            "tags": []
          },
          "execution_count": 10
        }
      ]
    },
    {
      "metadata": {
        "id": "hCAQJHAJTSQC",
        "colab_type": "code",
        "colab": {
          "autoexec": {
            "startup": false,
            "wait_interval": 0
          }
        },
        "outputId": "b730612c-eb42-44e4-b865-01718760a349"
      },
      "cell_type": "code",
      "source": [
        "type(None)\n",
        "\n",
        "\n"
      ],
      "execution_count": 0,
      "outputs": [
        {
          "output_type": "execute_result",
          "data": {
            "text/plain": [
              "NoneType"
            ]
          },
          "metadata": {
            "tags": []
          },
          "execution_count": 11
        }
      ]
    },
    {
      "metadata": {
        "id": "QB6Nv2PMTSQN",
        "colab_type": "text"
      },
      "cell_type": "markdown",
      "source": [
        "**ການກວດເບິ່ງປະເພດຂອງໂຕປ່ຽນ** "
      ]
    },
    {
      "metadata": {
        "id": "umTx9UGdTSQP",
        "colab_type": "code",
        "colab": {
          "autoexec": {
            "startup": false,
            "wait_interval": 0
          },
          "base_uri": "https://localhost:8080/",
          "height": 34
        },
        "outputId": "c3a872a2-f37d-4abb-db6d-2694c9da009d",
        "executionInfo": {
          "status": "ok",
          "timestamp": 1526718167900,
          "user_tz": -420,
          "elapsed": 1570,
          "user": {
            "displayName": "Outhai SAIOUDOM",
            "photoUrl": "//lh5.googleusercontent.com/-v5oasHENJGw/AAAAAAAAAAI/AAAAAAAAisk/iv-oY523D3o/s50-c-k-no/photo.jpg",
            "userId": "117242230221113736584"
          }
        }
      },
      "cell_type": "code",
      "source": [
        "isinstance(2.0, int)"
      ],
      "execution_count": 21,
      "outputs": [
        {
          "output_type": "execute_result",
          "data": {
            "text/plain": [
              "False"
            ]
          },
          "metadata": {
            "tags": []
          },
          "execution_count": 21
        }
      ]
    },
    {
      "metadata": {
        "id": "_sEp1ur8TSQX",
        "colab_type": "code",
        "colab": {
          "autoexec": {
            "startup": false,
            "wait_interval": 0
          }
        },
        "outputId": "dddc4283-b36f-48c9-90c4-28b1d9dc0329"
      },
      "cell_type": "code",
      "source": [
        "isinstance(2.0, (int, float))"
      ],
      "execution_count": 0,
      "outputs": [
        {
          "output_type": "execute_result",
          "data": {
            "text/plain": [
              "True"
            ]
          },
          "metadata": {
            "tags": []
          },
          "execution_count": 13
        }
      ]
    },
    {
      "metadata": {
        "id": "ohCOwyeVTSQe",
        "colab_type": "text"
      },
      "cell_type": "markdown",
      "source": [
        "**ການປ່ຽນ ປະເພດ ຂອງໂຕປ່ຽນ:**"
      ]
    },
    {
      "metadata": {
        "id": "rniwFdyfg0jn",
        "colab_type": "text"
      },
      "cell_type": "markdown",
      "source": [
        ""
      ]
    },
    {
      "metadata": {
        "id": "e8_QOFthTSQf",
        "colab_type": "code",
        "colab": {
          "autoexec": {
            "startup": false,
            "wait_interval": 0
          }
        },
        "outputId": "5d96c2f6-5eb6-4573-d8d8-5a84b50c6233"
      },
      "cell_type": "code",
      "source": [
        "float(2)"
      ],
      "execution_count": 0,
      "outputs": [
        {
          "output_type": "execute_result",
          "data": {
            "text/plain": [
              "2.0"
            ]
          },
          "metadata": {
            "tags": []
          },
          "execution_count": 14
        }
      ]
    },
    {
      "metadata": {
        "id": "CmL5uyqeTSQw",
        "colab_type": "code",
        "colab": {
          "autoexec": {
            "startup": false,
            "wait_interval": 0
          }
        },
        "outputId": "d5dc95c9-3eed-4186-fdde-1c5b41114c59"
      },
      "cell_type": "code",
      "source": [
        "int(2.9)"
      ],
      "execution_count": 0,
      "outputs": [
        {
          "output_type": "execute_result",
          "data": {
            "text/plain": [
              "2"
            ]
          },
          "metadata": {
            "tags": []
          },
          "execution_count": 15
        }
      ]
    },
    {
      "metadata": {
        "id": "7UQ5jicfTSRA",
        "colab_type": "code",
        "colab": {
          "autoexec": {
            "startup": false,
            "wait_interval": 0
          }
        },
        "outputId": "0655eeac-fc69-4c7d-80b4-c706885832ce"
      },
      "cell_type": "code",
      "source": [
        "str(2.9)"
      ],
      "execution_count": 0,
      "outputs": [
        {
          "output_type": "execute_result",
          "data": {
            "text/plain": [
              "'2.9'"
            ]
          },
          "metadata": {
            "tags": []
          },
          "execution_count": 16
        }
      ]
    },
    {
      "metadata": {
        "id": "Mo9QGie6TSRK",
        "colab_type": "text"
      },
      "cell_type": "markdown",
      "source": [
        "**ເລກ 0 , `None`,  ແລະ ຄ່າຫວ່າງ ແມ່ນຈະຖືກແປງເປັນ  ຄ່າ`False` /\n",
        "Zero, `None`, and empty containers are converted to `False`:**"
      ]
    },
    {
      "metadata": {
        "id": "UVNa8w-jTSRL",
        "colab_type": "code",
        "colab": {
          "autoexec": {
            "startup": false,
            "wait_interval": 0
          },
          "base_uri": "https://localhost:8080/",
          "height": 34
        },
        "outputId": "8730db29-c7fc-42f0-fc52-071b047e51ce",
        "executionInfo": {
          "status": "ok",
          "timestamp": 1526718324614,
          "user_tz": -420,
          "elapsed": 993,
          "user": {
            "displayName": "Outhai SAIOUDOM",
            "photoUrl": "//lh5.googleusercontent.com/-v5oasHENJGw/AAAAAAAAAAI/AAAAAAAAisk/iv-oY523D3o/s50-c-k-no/photo.jpg",
            "userId": "117242230221113736584"
          }
        }
      },
      "cell_type": "code",
      "source": [
        "bool(0)"
      ],
      "execution_count": 26,
      "outputs": [
        {
          "output_type": "execute_result",
          "data": {
            "text/plain": [
              "False"
            ]
          },
          "metadata": {
            "tags": []
          },
          "execution_count": 26
        }
      ]
    },
    {
      "metadata": {
        "id": "QuRKJJrNTSRX",
        "colab_type": "code",
        "colab": {
          "autoexec": {
            "startup": false,
            "wait_interval": 0
          }
        },
        "outputId": "c17fb3a7-dedc-44fb-81b3-dd1d8b1e7a98"
      },
      "cell_type": "code",
      "source": [
        "bool(None)"
      ],
      "execution_count": 0,
      "outputs": [
        {
          "output_type": "execute_result",
          "data": {
            "text/plain": [
              "False"
            ]
          },
          "metadata": {
            "tags": []
          },
          "execution_count": 18
        }
      ]
    },
    {
      "metadata": {
        "id": "ZC6MZXfYTSRj",
        "colab_type": "code",
        "colab": {
          "autoexec": {
            "startup": false,
            "wait_interval": 0
          }
        },
        "outputId": "d6ab6d16-8558-4b4c-dbd8-e0755448193a"
      },
      "cell_type": "code",
      "source": [
        "bool('')    # empty string"
      ],
      "execution_count": 0,
      "outputs": [
        {
          "output_type": "execute_result",
          "data": {
            "text/plain": [
              "False"
            ]
          },
          "metadata": {
            "tags": []
          },
          "execution_count": 19
        }
      ]
    },
    {
      "metadata": {
        "id": "bVxEfmuETSRp",
        "colab_type": "code",
        "colab": {
          "autoexec": {
            "startup": false,
            "wait_interval": 0
          }
        },
        "outputId": "58d7d169-2f03-4d36-b353-9a88301c7f7c"
      },
      "cell_type": "code",
      "source": [
        "bool([])    # empty list"
      ],
      "execution_count": 0,
      "outputs": [
        {
          "output_type": "execute_result",
          "data": {
            "text/plain": [
              "False"
            ]
          },
          "metadata": {
            "tags": []
          },
          "execution_count": 20
        }
      ]
    },
    {
      "metadata": {
        "id": "P7S7Z5R2TSRt",
        "colab_type": "code",
        "colab": {
          "autoexec": {
            "startup": false,
            "wait_interval": 0
          }
        },
        "outputId": "453f2d88-0917-4a30-c696-6ede3eb44c06"
      },
      "cell_type": "code",
      "source": [
        "bool({})    # empty dictionary"
      ],
      "execution_count": 0,
      "outputs": [
        {
          "output_type": "execute_result",
          "data": {
            "text/plain": [
              "False"
            ]
          },
          "metadata": {
            "tags": []
          },
          "execution_count": 21
        }
      ]
    },
    {
      "metadata": {
        "id": "t_kV_AxGTSR3",
        "colab_type": "text"
      },
      "cell_type": "markdown",
      "source": [
        "**ເລກທີ່ບໍ່ແມ່ນ 0 , None, ແລະ ຄ່າບໍ່ຫວ່າງ ແມ່ນຈະຖືກແປງເປັນ ຄ່າFalse / Non-empty containers and non-zeros are converted to `True`:**"
      ]
    },
    {
      "metadata": {
        "id": "UMDz3iwtTSR4",
        "colab_type": "code",
        "colab": {
          "autoexec": {
            "startup": false,
            "wait_interval": 0
          },
          "base_uri": "https://localhost:8080/",
          "height": 34
        },
        "outputId": "72b6edae-7a50-4e06-ee8e-e1681ac4744e",
        "executionInfo": {
          "status": "ok",
          "timestamp": 1526718577652,
          "user_tz": -420,
          "elapsed": 857,
          "user": {
            "displayName": "Outhai SAIOUDOM",
            "photoUrl": "//lh5.googleusercontent.com/-v5oasHENJGw/AAAAAAAAAAI/AAAAAAAAisk/iv-oY523D3o/s50-c-k-no/photo.jpg",
            "userId": "117242230221113736584"
          }
        }
      },
      "cell_type": "code",
      "source": [
        "bool(2)"
      ],
      "execution_count": 27,
      "outputs": [
        {
          "output_type": "execute_result",
          "data": {
            "text/plain": [
              "True"
            ]
          },
          "metadata": {
            "tags": []
          },
          "execution_count": 27
        }
      ]
    },
    {
      "metadata": {
        "id": "DFjfIAsETSR-",
        "colab_type": "code",
        "colab": {
          "autoexec": {
            "startup": false,
            "wait_interval": 0
          }
        },
        "outputId": "bf77e356-4d8b-432c-8e2f-4d0dd08f1a98"
      },
      "cell_type": "code",
      "source": [
        "bool('two')"
      ],
      "execution_count": 0,
      "outputs": [
        {
          "output_type": "execute_result",
          "data": {
            "text/plain": [
              "True"
            ]
          },
          "metadata": {
            "tags": []
          },
          "execution_count": 23
        }
      ]
    },
    {
      "metadata": {
        "id": "Nz98QCvQTSSE",
        "colab_type": "code",
        "colab": {
          "autoexec": {
            "startup": false,
            "wait_interval": 0
          }
        },
        "outputId": "0e388698-ac25-459b-9348-eed2620fdcd9"
      },
      "cell_type": "code",
      "source": [
        "bool([2])"
      ],
      "execution_count": 0,
      "outputs": [
        {
          "output_type": "execute_result",
          "data": {
            "text/plain": [
              "True"
            ]
          },
          "metadata": {
            "tags": []
          },
          "execution_count": 24
        }
      ]
    },
    {
      "metadata": {
        "id": "VbUOtPG4TSSL",
        "colab_type": "text"
      },
      "cell_type": "markdown",
      "source": [
        "[<a href=\"#Python-Quick-Reference-by-Data-School\">Back to top</a>]"
      ]
    },
    {
      "metadata": {
        "id": "EVoPqfMqTSSL",
        "colab_type": "text"
      },
      "cell_type": "markdown",
      "source": [
        "## 3. Math ການຄຳນວນ ທາງດ້ານຄະນິດສາດ"
      ]
    },
    {
      "metadata": {
        "id": "67clCzrNTSSM",
        "colab_type": "code",
        "colab": {
          "autoexec": {
            "startup": false,
            "wait_interval": 0
          },
          "base_uri": "https://localhost:8080/",
          "height": 34
        },
        "outputId": "9629a11b-7b34-49b0-e324-db49040ce99c",
        "executionInfo": {
          "status": "ok",
          "timestamp": 1526718611689,
          "user_tz": -420,
          "elapsed": 870,
          "user": {
            "displayName": "Outhai SAIOUDOM",
            "photoUrl": "//lh5.googleusercontent.com/-v5oasHENJGw/AAAAAAAAAAI/AAAAAAAAisk/iv-oY523D3o/s50-c-k-no/photo.jpg",
            "userId": "117242230221113736584"
          }
        }
      },
      "cell_type": "code",
      "source": [
        "10 + 4"
      ],
      "execution_count": 28,
      "outputs": [
        {
          "output_type": "execute_result",
          "data": {
            "text/plain": [
              "14"
            ]
          },
          "metadata": {
            "tags": []
          },
          "execution_count": 28
        }
      ]
    },
    {
      "metadata": {
        "id": "DI7vaGA6TSSR",
        "colab_type": "code",
        "colab": {
          "autoexec": {
            "startup": false,
            "wait_interval": 0
          }
        },
        "outputId": "4ceb414d-8995-4820-e8ae-5a65b3c5acc6"
      },
      "cell_type": "code",
      "source": [
        "10 - 4"
      ],
      "execution_count": 0,
      "outputs": [
        {
          "output_type": "execute_result",
          "data": {
            "text/plain": [
              "6"
            ]
          },
          "metadata": {
            "tags": []
          },
          "execution_count": 26
        }
      ]
    },
    {
      "metadata": {
        "id": "J9xFeb_YTSSV",
        "colab_type": "code",
        "colab": {
          "autoexec": {
            "startup": false,
            "wait_interval": 0
          }
        },
        "outputId": "591f94ac-8055-4b84-a0fe-9a5945c7479a"
      },
      "cell_type": "code",
      "source": [
        "10 * 4"
      ],
      "execution_count": 0,
      "outputs": [
        {
          "output_type": "execute_result",
          "data": {
            "text/plain": [
              "40"
            ]
          },
          "metadata": {
            "tags": []
          },
          "execution_count": 27
        }
      ]
    },
    {
      "metadata": {
        "id": "LVatxtpuTSSb",
        "colab_type": "code",
        "colab": {
          "autoexec": {
            "startup": false,
            "wait_interval": 0
          }
        },
        "outputId": "54508330-ca34-44ce-c798-fd20785c0ce7"
      },
      "cell_type": "code",
      "source": [
        "10 ** 4    # exponent ຍົກກຳລັງ"
      ],
      "execution_count": 0,
      "outputs": [
        {
          "output_type": "execute_result",
          "data": {
            "text/plain": [
              "10000"
            ]
          },
          "metadata": {
            "tags": []
          },
          "execution_count": 28
        }
      ]
    },
    {
      "metadata": {
        "id": "muwH6VPCTSSh",
        "colab_type": "code",
        "colab": {
          "autoexec": {
            "startup": false,
            "wait_interval": 0
          },
          "base_uri": "https://localhost:8080/",
          "height": 34
        },
        "outputId": "0561e551-7360-4678-a5fa-7c21ba87b179",
        "executionInfo": {
          "status": "ok",
          "timestamp": 1526718816092,
          "user_tz": -420,
          "elapsed": 1039,
          "user": {
            "displayName": "Outhai SAIOUDOM",
            "photoUrl": "//lh5.googleusercontent.com/-v5oasHENJGw/AAAAAAAAAAI/AAAAAAAAisk/iv-oY523D3o/s50-c-k-no/photo.jpg",
            "userId": "117242230221113736584"
          }
        }
      },
      "cell_type": "code",
      "source": [
        "9 % 4      # modulo - computes the remainder ຫານເອົາເລກເສດ"
      ],
      "execution_count": 30,
      "outputs": [
        {
          "output_type": "execute_result",
          "data": {
            "text/plain": [
              "1"
            ]
          },
          "metadata": {
            "tags": []
          },
          "execution_count": 30
        }
      ]
    },
    {
      "metadata": {
        "id": "CDKLlQkOTSSr",
        "colab_type": "code",
        "colab": {
          "autoexec": {
            "startup": false,
            "wait_interval": 0
          },
          "base_uri": "https://localhost:8080/",
          "height": 34
        },
        "outputId": "05c5af1b-b2ed-47ca-bbc7-5521f46c2d9f",
        "executionInfo": {
          "status": "ok",
          "timestamp": 1526718880063,
          "user_tz": -420,
          "elapsed": 1180,
          "user": {
            "displayName": "Outhai SAIOUDOM",
            "photoUrl": "//lh5.googleusercontent.com/-v5oasHENJGw/AAAAAAAAAAI/AAAAAAAAisk/iv-oY523D3o/s50-c-k-no/photo.jpg",
            "userId": "117242230221113736584"
          }
        }
      },
      "cell_type": "code",
      "source": [
        "# Python 2: returns 2 (because both types are 'int')\n",
        "# Python 3: returns 2.5 (10 / 4.0)\n",
        "10 / 4\n"
      ],
      "execution_count": 34,
      "outputs": [
        {
          "output_type": "execute_result",
          "data": {
            "text/plain": [
              "2"
            ]
          },
          "metadata": {
            "tags": []
          },
          "execution_count": 34
        }
      ]
    },
    {
      "metadata": {
        "id": "lIkoOqeDTSSw",
        "colab_type": "code",
        "colab": {
          "autoexec": {
            "startup": false,
            "wait_interval": 0
          }
        },
        "outputId": "bdbe4863-f045-4ef3-c01a-b4bc1e731049"
      },
      "cell_type": "code",
      "source": [
        "10 / float(4)"
      ],
      "execution_count": 0,
      "outputs": [
        {
          "output_type": "execute_result",
          "data": {
            "text/plain": [
              "2.5"
            ]
          },
          "metadata": {
            "tags": []
          },
          "execution_count": 31
        }
      ]
    },
    {
      "metadata": {
        "id": "3UhZZ2uLTSS5",
        "colab_type": "code",
        "colab": {
          "autoexec": {
            "startup": false,
            "wait_interval": 0
          }
        }
      },
      "cell_type": "code",
      "source": [
        "# force '/' in Python 2 to perform 'true division' (unnecessary in Python 3)\n",
        "from __future__ import division"
      ],
      "execution_count": 0,
      "outputs": []
    },
    {
      "metadata": {
        "id": "caFKDF_zTSS7",
        "colab_type": "code",
        "colab": {
          "autoexec": {
            "startup": false,
            "wait_interval": 0
          }
        },
        "outputId": "417e5fa3-7739-43a1-8bc3-f8ef3595cb6d"
      },
      "cell_type": "code",
      "source": [
        "10 / 4     # true division"
      ],
      "execution_count": 0,
      "outputs": [
        {
          "output_type": "execute_result",
          "data": {
            "text/plain": [
              "2.5"
            ]
          },
          "metadata": {
            "tags": []
          },
          "execution_count": 33
        }
      ]
    },
    {
      "metadata": {
        "id": "lb4NAgnRTSTA",
        "colab_type": "code",
        "colab": {
          "autoexec": {
            "startup": false,
            "wait_interval": 0
          }
        },
        "outputId": "21f91a3d-5106-47cd-b399-00a84098111f"
      },
      "cell_type": "code",
      "source": [
        "10 // 4    # floor division ຫານ ບໍ່ເອົາເລກຈຸດທາງຫລັງ"
      ],
      "execution_count": 0,
      "outputs": [
        {
          "output_type": "execute_result",
          "data": {
            "text/plain": [
              "2"
            ]
          },
          "metadata": {
            "tags": []
          },
          "execution_count": 34
        }
      ]
    },
    {
      "metadata": {
        "id": "jEjc9PWgTSTD",
        "colab_type": "text"
      },
      "cell_type": "markdown",
      "source": [
        "[<a href=\"#Python-Quick-Reference-by-Data-School\">Back to top</a>]"
      ]
    },
    {
      "metadata": {
        "id": "Nj_X-aFOTSTE",
        "colab_type": "text"
      },
      "cell_type": "markdown",
      "source": [
        "## 4. ການປຽບທຽບ ແລະ ຕັກກະ ຖືກ-ຜິດ / Comparisons and Boolean Operations"
      ]
    },
    {
      "metadata": {
        "id": "s7DjKwRGTSTF",
        "colab_type": "text"
      },
      "cell_type": "markdown",
      "source": [
        "**Assignment statement:**"
      ]
    },
    {
      "metadata": {
        "id": "PSZA1emmTSTF",
        "colab_type": "code",
        "colab": {
          "autoexec": {
            "startup": false,
            "wait_interval": 0
          }
        }
      },
      "cell_type": "code",
      "source": [
        "x = 5"
      ],
      "execution_count": 0,
      "outputs": []
    },
    {
      "metadata": {
        "id": "kbTbixQTTSTH",
        "colab_type": "text"
      },
      "cell_type": "markdown",
      "source": [
        "**ການປຽບທຽບຄ່າ / Comparisons:**"
      ]
    },
    {
      "metadata": {
        "id": "LfmalJqkTSTI",
        "colab_type": "code",
        "colab": {
          "autoexec": {
            "startup": false,
            "wait_interval": 0
          },
          "base_uri": "https://localhost:8080/",
          "height": 34
        },
        "outputId": "fafe65e8-1fa7-4ec6-9b98-5f3232716bf3",
        "executionInfo": {
          "status": "ok",
          "timestamp": 1526719251625,
          "user_tz": -420,
          "elapsed": 927,
          "user": {
            "displayName": "Outhai SAIOUDOM",
            "photoUrl": "//lh5.googleusercontent.com/-v5oasHENJGw/AAAAAAAAAAI/AAAAAAAAisk/iv-oY523D3o/s50-c-k-no/photo.jpg",
            "userId": "117242230221113736584"
          }
        }
      },
      "cell_type": "code",
      "source": [
        "x > 3"
      ],
      "execution_count": 36,
      "outputs": [
        {
          "output_type": "execute_result",
          "data": {
            "text/plain": [
              "True"
            ]
          },
          "metadata": {
            "tags": []
          },
          "execution_count": 36
        }
      ]
    },
    {
      "metadata": {
        "id": "s9ZQ9AilTSTM",
        "colab_type": "code",
        "colab": {
          "autoexec": {
            "startup": false,
            "wait_interval": 0
          }
        },
        "outputId": "f574ee1a-b869-40c5-f46d-b4ccfc84ccb1"
      },
      "cell_type": "code",
      "source": [
        "x >= 3"
      ],
      "execution_count": 0,
      "outputs": [
        {
          "output_type": "execute_result",
          "data": {
            "text/plain": [
              "True"
            ]
          },
          "metadata": {
            "tags": []
          },
          "execution_count": 37
        }
      ]
    },
    {
      "metadata": {
        "id": "ATHAWO1ITSTP",
        "colab_type": "code",
        "colab": {
          "autoexec": {
            "startup": false,
            "wait_interval": 0
          }
        },
        "outputId": "65d97dd2-2615-4a81-aa3a-a1b810adcbb3"
      },
      "cell_type": "code",
      "source": [
        "x != 3"
      ],
      "execution_count": 0,
      "outputs": [
        {
          "output_type": "execute_result",
          "data": {
            "text/plain": [
              "True"
            ]
          },
          "metadata": {
            "tags": []
          },
          "execution_count": 38
        }
      ]
    },
    {
      "metadata": {
        "id": "mtxKtNi1TSTS",
        "colab_type": "code",
        "colab": {
          "autoexec": {
            "startup": false,
            "wait_interval": 0
          }
        },
        "outputId": "64914be1-4fed-464e-ebb4-4187a1924b4b"
      },
      "cell_type": "code",
      "source": [
        "x == 5"
      ],
      "execution_count": 0,
      "outputs": [
        {
          "output_type": "execute_result",
          "data": {
            "text/plain": [
              "True"
            ]
          },
          "metadata": {
            "tags": []
          },
          "execution_count": 39
        }
      ]
    },
    {
      "metadata": {
        "id": "IOijS9lJTSTV",
        "colab_type": "text"
      },
      "cell_type": "markdown",
      "source": [
        "** ຕັກກະ / Boolean operations:**"
      ]
    },
    {
      "metadata": {
        "id": "4CJ1HezUTSTW",
        "colab_type": "code",
        "colab": {
          "autoexec": {
            "startup": false,
            "wait_interval": 0
          }
        },
        "outputId": "4def4536-d29f-4b3b-eb46-a4aa7f2f86ac"
      },
      "cell_type": "code",
      "source": [
        "5 > 3 and 6 > 3"
      ],
      "execution_count": 0,
      "outputs": [
        {
          "output_type": "execute_result",
          "data": {
            "text/plain": [
              "True"
            ]
          },
          "metadata": {
            "tags": []
          },
          "execution_count": 40
        }
      ]
    },
    {
      "metadata": {
        "id": "UkLicU64TSTZ",
        "colab_type": "code",
        "colab": {
          "autoexec": {
            "startup": false,
            "wait_interval": 0
          }
        },
        "outputId": "fbaf2e05-1423-4b14-dda8-65fbaf4b8ba5"
      },
      "cell_type": "code",
      "source": [
        "5 > 3 or 5 < 3"
      ],
      "execution_count": 0,
      "outputs": [
        {
          "output_type": "execute_result",
          "data": {
            "text/plain": [
              "True"
            ]
          },
          "metadata": {
            "tags": []
          },
          "execution_count": 41
        }
      ]
    },
    {
      "metadata": {
        "id": "QiK4AE9uTSTc",
        "colab_type": "code",
        "colab": {
          "autoexec": {
            "startup": false,
            "wait_interval": 0
          }
        },
        "outputId": "5ad130b9-c9d4-476d-b16a-85bebad2d80c"
      },
      "cell_type": "code",
      "source": [
        "not False"
      ],
      "execution_count": 0,
      "outputs": [
        {
          "output_type": "execute_result",
          "data": {
            "text/plain": [
              "True"
            ]
          },
          "metadata": {
            "tags": []
          },
          "execution_count": 42
        }
      ]
    },
    {
      "metadata": {
        "id": "upKGoUT3TSTi",
        "colab_type": "code",
        "colab": {
          "autoexec": {
            "startup": false,
            "wait_interval": 0
          }
        },
        "outputId": "457922d6-1d90-440b-b531-20f5d69816bc"
      },
      "cell_type": "code",
      "source": [
        "False or not False and True     # evaluation order: not, and, or"
      ],
      "execution_count": 0,
      "outputs": [
        {
          "output_type": "execute_result",
          "data": {
            "text/plain": [
              "True"
            ]
          },
          "metadata": {
            "tags": []
          },
          "execution_count": 43
        }
      ]
    },
    {
      "metadata": {
        "id": "oIBNEXG5TSTn",
        "colab_type": "text"
      },
      "cell_type": "markdown",
      "source": [
        "[<a href=\"#Python-Quick-Reference-by-Data-School\">Back to top</a>]"
      ]
    },
    {
      "metadata": {
        "id": "uC15VeBATSTo",
        "colab_type": "text"
      },
      "cell_type": "markdown",
      "source": [
        "## 5. ເງື່ອນໄຂ / Conditional Statements"
      ]
    },
    {
      "metadata": {
        "id": "4hT2NogSTSTp",
        "colab_type": "code",
        "colab": {
          "autoexec": {
            "startup": false,
            "wait_interval": 0
          }
        },
        "outputId": "e02dfe13-f5c8-40de-ecd7-6789df3558ec"
      },
      "cell_type": "code",
      "source": [
        "# if statement\n",
        "if x > 0:\n",
        "    print('positive')"
      ],
      "execution_count": 0,
      "outputs": [
        {
          "output_type": "stream",
          "text": [
            "positive\n"
          ],
          "name": "stdout"
        }
      ]
    },
    {
      "metadata": {
        "id": "vlKUqmCDTSTs",
        "colab_type": "code",
        "colab": {
          "autoexec": {
            "startup": false,
            "wait_interval": 0
          }
        },
        "outputId": "2cf6c9f3-7d6c-40d9-db53-1da7a61e14af"
      },
      "cell_type": "code",
      "source": [
        "# if/else statement\n",
        "if x > 0:\n",
        "    print('positive')\n",
        "else:\n",
        "    print('zero or negative')"
      ],
      "execution_count": 0,
      "outputs": [
        {
          "output_type": "stream",
          "text": [
            "positive\n"
          ],
          "name": "stdout"
        }
      ]
    },
    {
      "metadata": {
        "id": "dl9t4cl0TSTw",
        "colab_type": "code",
        "colab": {
          "autoexec": {
            "startup": false,
            "wait_interval": 0
          }
        },
        "outputId": "543e03f6-f9bc-4351-954c-f97adf6ccece"
      },
      "cell_type": "code",
      "source": [
        "# if/elif/else statement\n",
        "if x > 0:\n",
        "    print('positive')\n",
        "elif x == 0:\n",
        "    print('zero')\n",
        "else:\n",
        "    print('negative')"
      ],
      "execution_count": 0,
      "outputs": [
        {
          "output_type": "stream",
          "text": [
            "positive\n"
          ],
          "name": "stdout"
        }
      ]
    },
    {
      "metadata": {
        "id": "3sAv5bBfTST1",
        "colab_type": "code",
        "colab": {
          "autoexec": {
            "startup": false,
            "wait_interval": 0
          }
        },
        "outputId": "14714b45-6530-49fd-923a-c2fb5c39b04e"
      },
      "cell_type": "code",
      "source": [
        "# single-line if statement (sometimes discouraged)\n",
        "if x > 0: print('positive')"
      ],
      "execution_count": 0,
      "outputs": [
        {
          "output_type": "stream",
          "text": [
            "positive\n"
          ],
          "name": "stdout"
        }
      ]
    },
    {
      "metadata": {
        "id": "8GVlbIfqTST3",
        "colab_type": "code",
        "colab": {
          "autoexec": {
            "startup": false,
            "wait_interval": 0
          }
        },
        "outputId": "f634bd1a-6873-452f-a404-13666bb1c195"
      },
      "cell_type": "code",
      "source": [
        "# single-line if/else statement (sometimes discouraged), known as a 'ternary operator'\n",
        "'positive' if x > 0 else 'zero or negative'"
      ],
      "execution_count": 0,
      "outputs": [
        {
          "output_type": "execute_result",
          "data": {
            "text/plain": [
              "'positive'"
            ]
          },
          "metadata": {
            "tags": []
          },
          "execution_count": 48
        }
      ]
    },
    {
      "metadata": {
        "id": "HBAcqjnnTST7",
        "colab_type": "text"
      },
      "cell_type": "markdown",
      "source": [
        "[<a href=\"#Python-Quick-Reference-by-Data-School\">Back to top</a>]"
      ]
    },
    {
      "metadata": {
        "id": "s-YRYSCGTST7",
        "colab_type": "text"
      },
      "cell_type": "markdown",
      "source": [
        "## 6. Lists\n",
        "\n",
        "- ** ລຸງວ່າ List ມັນຄ້າຍຄື Array ໃນພາສາ ອື່ນ ທີ່ໃນ ນຶ່ງໂຕແປ ສາມາດເກັບຂໍ້ມູນໄດ້ຫລາຍຄ່າ ແລະ ຫລາຍປະເພດໄດ້ໄວ້ນຳກັນ / List properties:** ordered, iterable, mutable, can contain multiple data types"
      ]
    },
    {
      "metadata": {
        "id": "2fLew8NtTST7",
        "colab_type": "code",
        "colab": {
          "autoexec": {
            "startup": false,
            "wait_interval": 0
          }
        }
      },
      "cell_type": "code",
      "source": [
        "# ການປະກາດໂຕແປ list (ໄດ້ສອງແບບ)\n",
        "empty_list = []\n",
        "empty_list = list()"
      ],
      "execution_count": 0,
      "outputs": []
    },
    {
      "metadata": {
        "id": "-kGxv9q1TST9",
        "colab_type": "code",
        "colab": {
          "autoexec": {
            "startup": false,
            "wait_interval": 0
          }
        }
      },
      "cell_type": "code",
      "source": [
        "# ປະກາດໂຕແປ ແລະ ລະບຸຄ່າໄວ້ໃນໂຕແປເລີຍ\n",
        "simpsons = ['homer', 'marge', 'bart']"
      ],
      "execution_count": 0,
      "outputs": []
    },
    {
      "metadata": {
        "id": "K22K814mTSUG",
        "colab_type": "text"
      },
      "cell_type": "markdown",
      "source": [
        "**Examine a list:**"
      ]
    },
    {
      "metadata": {
        "id": "Qoeu6dpSTSUH",
        "colab_type": "code",
        "colab": {
          "autoexec": {
            "startup": false,
            "wait_interval": 0
          },
          "base_uri": "https://localhost:8080/",
          "height": 34
        },
        "outputId": "6ca7a39d-800a-49ed-88c6-1c5a6c2f3eb6",
        "executionInfo": {
          "status": "ok",
          "timestamp": 1526743935044,
          "user_tz": -420,
          "elapsed": 943,
          "user": {
            "displayName": "Outhai SAIOUDOM",
            "photoUrl": "//lh5.googleusercontent.com/-v5oasHENJGw/AAAAAAAAAAI/AAAAAAAAisk/iv-oY523D3o/s50-c-k-no/photo.jpg",
            "userId": "117242230221113736584"
          }
        }
      },
      "cell_type": "code",
      "source": [
        "# ສະແດງສາມາຊິກຂອງ List ລຳດັບທີ່ \n",
        "simpsons[0]"
      ],
      "execution_count": 8,
      "outputs": [
        {
          "output_type": "execute_result",
          "data": {
            "text/plain": [
              "'homer'"
            ]
          },
          "metadata": {
            "tags": []
          },
          "execution_count": 8
        }
      ]
    },
    {
      "metadata": {
        "id": "DKINhzsWTSUL",
        "colab_type": "code",
        "colab": {
          "autoexec": {
            "startup": false,
            "wait_interval": 0
          }
        },
        "outputId": "9073b884-ca26-464a-f19f-c7a4fd052774"
      },
      "cell_type": "code",
      "source": [
        " #ນັບຈຳນວນສະມາຊິກຂອງ List\n",
        "len(simpsons)"
      ],
      "execution_count": 0,
      "outputs": [
        {
          "output_type": "execute_result",
          "data": {
            "text/plain": [
              "3"
            ]
          },
          "metadata": {
            "tags": []
          },
          "execution_count": 52
        }
      ]
    },
    {
      "metadata": {
        "id": "13FLe94VTSUS",
        "colab_type": "text"
      },
      "cell_type": "markdown",
      "source": [
        "**ການແກ້ໄຂຄ່າຂອງສະມາຊິກໃນ List / Modify a list (does not return the list):**"
      ]
    },
    {
      "metadata": {
        "id": "iVTA7E3_TSUV",
        "colab_type": "code",
        "colab": {
          "autoexec": {
            "startup": false,
            "wait_interval": 0
          }
        },
        "outputId": "1e2c9ae8-9781-4612-abe1-6a1f82be177e"
      },
      "cell_type": "code",
      "source": [
        "# ເພີ່ມສະມາຊິກຕໍ່ທ້າຍ append element to end\n",
        "simpsons.append('lisa')\n",
        "simpsons"
      ],
      "execution_count": 0,
      "outputs": [
        {
          "output_type": "execute_result",
          "data": {
            "text/plain": [
              "['homer', 'marge', 'bart', 'lisa']"
            ]
          },
          "metadata": {
            "tags": []
          },
          "execution_count": 53
        }
      ]
    },
    {
      "metadata": {
        "id": "C1kXjUFYTSUa",
        "colab_type": "code",
        "colab": {
          "autoexec": {
            "startup": false,
            "wait_interval": 0
          }
        },
        "outputId": "f211210c-0b46-42c7-f3a7-09ea294305bd"
      },
      "cell_type": "code",
      "source": [
        "# ເພື່ອຫລາຍຄ່າຕໍ່ທ່າຍ append multiple elements to end\n",
        "simpsons.extend(['itchy', 'scratchy'])\n",
        "simpsons"
      ],
      "execution_count": 0,
      "outputs": [
        {
          "output_type": "execute_result",
          "data": {
            "text/plain": [
              "['homer', 'marge', 'bart', 'lisa', 'itchy', 'scratchy']"
            ]
          },
          "metadata": {
            "tags": []
          },
          "execution_count": 54
        }
      ]
    },
    {
      "metadata": {
        "id": "xN0UT_AYTSUg",
        "colab_type": "code",
        "colab": {
          "autoexec": {
            "startup": false,
            "wait_interval": 0
          }
        },
        "outputId": "9cdeb542-47f9-40ca-f8e5-c9d31a7d8b0a"
      },
      "cell_type": "code",
      "source": [
        "# ເພີ່ມຄ່າສະມາຊິກ ແບບລະບຸຕຳແຫນ່ງ ມັນຈະແທນຄ່າແລ້ວຫຍັບເອົາຄ່າອື່ນໄປທາງຂວາ (insert element at index 0 (shifts everything right))\n",
        "simpsons.insert(0, 'maggie')\n",
        "simpsons"
      ],
      "execution_count": 0,
      "outputs": [
        {
          "output_type": "execute_result",
          "data": {
            "text/plain": [
              "['maggie', 'homer', 'marge', 'bart', 'lisa', 'itchy', 'scratchy']"
            ]
          },
          "metadata": {
            "tags": []
          },
          "execution_count": 55
        }
      ]
    },
    {
      "metadata": {
        "id": "7IJYZPgGTSUm",
        "colab_type": "code",
        "colab": {
          "autoexec": {
            "startup": false,
            "wait_interval": 0
          }
        },
        "outputId": "4707fb07-917a-4fd3-fdbb-9600678de746"
      },
      "cell_type": "code",
      "source": [
        "# search for first instance and remove it\n",
        "simpsons.remove('bart')\n",
        "simpsons"
      ],
      "execution_count": 0,
      "outputs": [
        {
          "output_type": "execute_result",
          "data": {
            "text/plain": [
              "['maggie', 'homer', 'marge', 'lisa', 'itchy', 'scratchy']"
            ]
          },
          "metadata": {
            "tags": []
          },
          "execution_count": 56
        }
      ]
    },
    {
      "metadata": {
        "id": "T5_7B1UrTSUv",
        "colab_type": "code",
        "colab": {
          "autoexec": {
            "startup": false,
            "wait_interval": 0
          }
        },
        "outputId": "20f43f07-6778-443c-b926-6af6af4e6a25"
      },
      "cell_type": "code",
      "source": [
        "# remove element 0 and return it\n",
        "simpsons.pop(0)"
      ],
      "execution_count": 0,
      "outputs": [
        {
          "output_type": "execute_result",
          "data": {
            "text/plain": [
              "'maggie'"
            ]
          },
          "metadata": {
            "tags": []
          },
          "execution_count": 57
        }
      ]
    },
    {
      "metadata": {
        "id": "axzaDv4xTSU7",
        "colab_type": "code",
        "colab": {
          "autoexec": {
            "startup": false,
            "wait_interval": 0
          }
        },
        "outputId": "50bd8272-94b8-432b-8ad1-b4b9ffe9dd73"
      },
      "cell_type": "code",
      "source": [
        "# remove element 0 (does not return it)\n",
        "del simpsons[0]\n",
        "simpsons"
      ],
      "execution_count": 0,
      "outputs": [
        {
          "output_type": "execute_result",
          "data": {
            "text/plain": [
              "['marge', 'lisa', 'itchy', 'scratchy']"
            ]
          },
          "metadata": {
            "tags": []
          },
          "execution_count": 58
        }
      ]
    },
    {
      "metadata": {
        "id": "vUG1ikVHTSU_",
        "colab_type": "code",
        "colab": {
          "autoexec": {
            "startup": false,
            "wait_interval": 0
          }
        },
        "outputId": "27bc72f2-61cb-4634-d95d-b60ea6f9a035"
      },
      "cell_type": "code",
      "source": [
        "# replace element 0\n",
        "simpsons[0] = 'krusty'\n",
        "simpsons"
      ],
      "execution_count": 0,
      "outputs": [
        {
          "output_type": "execute_result",
          "data": {
            "text/plain": [
              "['krusty', 'lisa', 'itchy', 'scratchy']"
            ]
          },
          "metadata": {
            "tags": []
          },
          "execution_count": 59
        }
      ]
    },
    {
      "metadata": {
        "id": "RNYHPlltTSVG",
        "colab_type": "code",
        "colab": {
          "autoexec": {
            "startup": false,
            "wait_interval": 0
          }
        },
        "outputId": "d5ac2a85-fc54-4760-a804-5a53a843ff0f"
      },
      "cell_type": "code",
      "source": [
        "# ການຮວມຄ່າສະມາຊິກເຂົ້າກັນ (ບວກ) ສອງ List / concatenate lists (slower than 'extend' method)\n",
        "neighbors = simpsons + ['ned', 'rod', 'todd']\n",
        "neighbors"
      ],
      "execution_count": 0,
      "outputs": [
        {
          "output_type": "execute_result",
          "data": {
            "text/plain": [
              "['krusty', 'lisa', 'itchy', 'scratchy', 'ned', 'rod', 'todd']"
            ]
          },
          "metadata": {
            "tags": []
          },
          "execution_count": 60
        }
      ]
    },
    {
      "metadata": {
        "id": "ieQOQdXfTSVO",
        "colab_type": "text"
      },
      "cell_type": "markdown",
      "source": [
        "** ຄົ້ນຫາ ແລະ ນັບຈຳນວນ / Find elements in a list:**"
      ]
    },
    {
      "metadata": {
        "id": "j1Cm6FubTSVO",
        "colab_type": "code",
        "colab": {
          "autoexec": {
            "startup": false,
            "wait_interval": 0
          }
        },
        "outputId": "b273fa72-aa55-4bd1-ff7b-202850406423"
      },
      "cell_type": "code",
      "source": [
        "# ຄົ້ນຫາ ແລະ ນັບຈຳນວນ / counts the number of instances\n",
        "simpsons.count('lisa')"
      ],
      "execution_count": 0,
      "outputs": [
        {
          "output_type": "execute_result",
          "data": {
            "text/plain": [
              "1"
            ]
          },
          "metadata": {
            "tags": []
          },
          "execution_count": 61
        }
      ]
    },
    {
      "metadata": {
        "id": "AnqNbzaPTSVT",
        "colab_type": "code",
        "colab": {
          "autoexec": {
            "startup": false,
            "wait_interval": 0
          }
        },
        "outputId": "e47be768-0bf6-42f0-91d9-1b1f3fc1cc9c"
      },
      "cell_type": "code",
      "source": [
        "# returns index of first instance\n",
        "simpsons.index('itchy')"
      ],
      "execution_count": 0,
      "outputs": [
        {
          "output_type": "execute_result",
          "data": {
            "text/plain": [
              "2"
            ]
          },
          "metadata": {
            "tags": []
          },
          "execution_count": 62
        }
      ]
    },
    {
      "metadata": {
        "id": "mZBqlVstTSVY",
        "colab_type": "text"
      },
      "cell_type": "markdown",
      "source": [
        "**ການແບ່ງຊອຍ / List slicing:**"
      ]
    },
    {
      "metadata": {
        "id": "FZIOS7S7TSVZ",
        "colab_type": "code",
        "colab": {
          "autoexec": {
            "startup": false,
            "wait_interval": 0
          }
        }
      },
      "cell_type": "code",
      "source": [
        "weekdays = ['mon', 'tues', 'wed', 'thurs', 'fri']"
      ],
      "execution_count": 0,
      "outputs": []
    },
    {
      "metadata": {
        "id": "6XusGf2VTSVc",
        "colab_type": "code",
        "colab": {
          "autoexec": {
            "startup": false,
            "wait_interval": 0
          }
        },
        "outputId": "b2b64de8-6f7d-4bcb-af75-2adc9d2b2b73"
      },
      "cell_type": "code",
      "source": [
        "# element 0\n",
        "weekdays[0]"
      ],
      "execution_count": 0,
      "outputs": [
        {
          "output_type": "execute_result",
          "data": {
            "text/plain": [
              "'mon'"
            ]
          },
          "metadata": {
            "tags": []
          },
          "execution_count": 64
        }
      ]
    },
    {
      "metadata": {
        "id": "NPbOzCF8TSVn",
        "colab_type": "code",
        "colab": {
          "autoexec": {
            "startup": false,
            "wait_interval": 0
          },
          "base_uri": "https://localhost:8080/",
          "height": 34
        },
        "outputId": "4b29f6f8-733f-44ab-d262-e9300aff111a",
        "executionInfo": {
          "status": "ok",
          "timestamp": 1526737493448,
          "user_tz": -420,
          "elapsed": 1010,
          "user": {
            "displayName": "Outhai SAIOUDOM",
            "photoUrl": "//lh5.googleusercontent.com/-v5oasHENJGw/AAAAAAAAAAI/AAAAAAAAisk/iv-oY523D3o/s50-c-k-no/photo.jpg",
            "userId": "117242230221113736584"
          }
        }
      },
      "cell_type": "code",
      "source": [
        "# elements 0 (inclusive) to 3 (exclusive)\n",
        "weekdays[0:3]"
      ],
      "execution_count": 4,
      "outputs": [
        {
          "output_type": "execute_result",
          "data": {
            "text/plain": [
              "['mon', 'tues', 'wed']"
            ]
          },
          "metadata": {
            "tags": []
          },
          "execution_count": 4
        }
      ]
    },
    {
      "metadata": {
        "id": "cMK8EMK4TSVs",
        "colab_type": "code",
        "colab": {
          "autoexec": {
            "startup": false,
            "wait_interval": 0
          }
        },
        "outputId": "703d9105-4d5f-48bc-c73d-561b49624c7e"
      },
      "cell_type": "code",
      "source": [
        "# starting point is implied to be 0\n",
        "weekdays[:3]"
      ],
      "execution_count": 0,
      "outputs": [
        {
          "output_type": "execute_result",
          "data": {
            "text/plain": [
              "['mon', 'tues', 'wed']"
            ]
          },
          "metadata": {
            "tags": []
          },
          "execution_count": 66
        }
      ]
    },
    {
      "metadata": {
        "id": "XZLePj7MTSVw",
        "colab_type": "code",
        "colab": {
          "autoexec": {
            "startup": false,
            "wait_interval": 0
          }
        },
        "outputId": "ebe46c4d-f467-46d3-a773-a36e5e80951a"
      },
      "cell_type": "code",
      "source": [
        "# elements 3 (inclusive) through the end\n",
        "weekdays[3:]"
      ],
      "execution_count": 0,
      "outputs": [
        {
          "output_type": "execute_result",
          "data": {
            "text/plain": [
              "['thurs', 'fri']"
            ]
          },
          "metadata": {
            "tags": []
          },
          "execution_count": 67
        }
      ]
    },
    {
      "metadata": {
        "id": "JUTWFGA8TSV0",
        "colab_type": "code",
        "colab": {
          "autoexec": {
            "startup": false,
            "wait_interval": 0
          }
        },
        "outputId": "d2a4fa30-2cca-499b-f433-ccdf35e74fc4"
      },
      "cell_type": "code",
      "source": [
        "# last element\n",
        "weekdays[-1]"
      ],
      "execution_count": 0,
      "outputs": [
        {
          "output_type": "execute_result",
          "data": {
            "text/plain": [
              "'fri'"
            ]
          },
          "metadata": {
            "tags": []
          },
          "execution_count": 68
        }
      ]
    },
    {
      "metadata": {
        "id": "UhP7N2rLTSWG",
        "colab_type": "code",
        "colab": {
          "autoexec": {
            "startup": false,
            "wait_interval": 0
          }
        },
        "outputId": "a392f08c-e82f-425f-fb84-5fb20a6d239f"
      },
      "cell_type": "code",
      "source": [
        "# every 2nd element (step by 2)\n",
        "weekdays[::2]"
      ],
      "execution_count": 0,
      "outputs": [
        {
          "output_type": "execute_result",
          "data": {
            "text/plain": [
              "['mon', 'wed', 'fri']"
            ]
          },
          "metadata": {
            "tags": []
          },
          "execution_count": 69
        }
      ]
    },
    {
      "metadata": {
        "id": "SHwVoej5TSWK",
        "colab_type": "code",
        "colab": {
          "autoexec": {
            "startup": false,
            "wait_interval": 0
          }
        },
        "outputId": "8d38b1b4-28df-402b-f6ac-ffe5482ea209"
      },
      "cell_type": "code",
      "source": [
        "# backwards (step by -1)\n",
        "weekdays[::-1]"
      ],
      "execution_count": 0,
      "outputs": [
        {
          "output_type": "execute_result",
          "data": {
            "text/plain": [
              "['fri', 'thurs', 'wed', 'tues', 'mon']"
            ]
          },
          "metadata": {
            "tags": []
          },
          "execution_count": 70
        }
      ]
    },
    {
      "metadata": {
        "id": "Yp6Tqlx7TSWN",
        "colab_type": "code",
        "colab": {
          "autoexec": {
            "startup": false,
            "wait_interval": 0
          }
        },
        "outputId": "e01be9e8-bf81-4886-8df3-441200680faa"
      },
      "cell_type": "code",
      "source": [
        "# alternative method for returning the list backwards\n",
        "list(reversed(weekdays))"
      ],
      "execution_count": 0,
      "outputs": [
        {
          "output_type": "execute_result",
          "data": {
            "text/plain": [
              "['fri', 'thurs', 'wed', 'tues', 'mon']"
            ]
          },
          "metadata": {
            "tags": []
          },
          "execution_count": 71
        }
      ]
    },
    {
      "metadata": {
        "id": "J0S3toH9TSWQ",
        "colab_type": "text"
      },
      "cell_type": "markdown",
      "source": [
        "**ການຈັດລຽງລຳດັບສະມາຊິກ ແລະແກ້ໄຂໂຕແປຫລັກ / Sort a list in place (modifies but does not return the list):**"
      ]
    },
    {
      "metadata": {
        "id": "b0DirmhBTSWR",
        "colab_type": "code",
        "colab": {
          "autoexec": {
            "startup": false,
            "wait_interval": 0
          },
          "base_uri": "https://localhost:8080/",
          "height": 34
        },
        "outputId": "a8f83a1d-57b2-45e1-c1ba-c98de0dbdf79",
        "executionInfo": {
          "status": "ok",
          "timestamp": 1526743952209,
          "user_tz": -420,
          "elapsed": 1279,
          "user": {
            "displayName": "Outhai SAIOUDOM",
            "photoUrl": "//lh5.googleusercontent.com/-v5oasHENJGw/AAAAAAAAAAI/AAAAAAAAisk/iv-oY523D3o/s50-c-k-no/photo.jpg",
            "userId": "117242230221113736584"
          }
        }
      },
      "cell_type": "code",
      "source": [
        "simpsons.sort()\n",
        "simpsons"
      ],
      "execution_count": 9,
      "outputs": [
        {
          "output_type": "execute_result",
          "data": {
            "text/plain": [
              "['bart', 'homer', 'marge']"
            ]
          },
          "metadata": {
            "tags": []
          },
          "execution_count": 9
        }
      ]
    },
    {
      "metadata": {
        "id": "X09ZBHlYTSWT",
        "colab_type": "code",
        "colab": {
          "autoexec": {
            "startup": false,
            "wait_interval": 0
          },
          "base_uri": "https://localhost:8080/",
          "height": 34
        },
        "outputId": "0617a85a-1b22-4ffa-d0bf-df4d08f92c5d",
        "executionInfo": {
          "status": "ok",
          "timestamp": 1526744005806,
          "user_tz": -420,
          "elapsed": 921,
          "user": {
            "displayName": "Outhai SAIOUDOM",
            "photoUrl": "//lh5.googleusercontent.com/-v5oasHENJGw/AAAAAAAAAAI/AAAAAAAAisk/iv-oY523D3o/s50-c-k-no/photo.jpg",
            "userId": "117242230221113736584"
          }
        }
      },
      "cell_type": "code",
      "source": [
        "# sort in reverse\n",
        "simpsons.sort(reverse=True)\n",
        "simpsons"
      ],
      "execution_count": 12,
      "outputs": [
        {
          "output_type": "execute_result",
          "data": {
            "text/plain": [
              "['marge', 'homer', 'bart']"
            ]
          },
          "metadata": {
            "tags": []
          },
          "execution_count": 12
        }
      ]
    },
    {
      "metadata": {
        "id": "bpHCKFTqTSWW",
        "colab_type": "code",
        "colab": {
          "autoexec": {
            "startup": false,
            "wait_interval": 0
          }
        },
        "outputId": "f763adf5-92db-4edb-ef42-976fd8709979"
      },
      "cell_type": "code",
      "source": [
        "# sort by a key\n",
        "simpsons.sort(key=len)\n",
        "simpsons"
      ],
      "execution_count": 0,
      "outputs": [
        {
          "output_type": "execute_result",
          "data": {
            "text/plain": [
              "['lisa', 'itchy', 'krusty', 'scratchy']"
            ]
          },
          "metadata": {
            "tags": []
          },
          "execution_count": 74
        }
      ]
    },
    {
      "metadata": {
        "id": "9_GRvMSITSWZ",
        "colab_type": "text"
      },
      "cell_type": "markdown",
      "source": [
        "**ການຈັດລຽງສະມາຊິກແຕ່ບໍ່ແກ້ໄຂໂຕແປຫລັກ / Return a sorted list (does not modify the original list):**"
      ]
    },
    {
      "metadata": {
        "id": "1HgBpAnQTSWZ",
        "colab_type": "code",
        "colab": {
          "autoexec": {
            "startup": false,
            "wait_interval": 0
          },
          "base_uri": "https://localhost:8080/",
          "height": 34
        },
        "outputId": "c97c0188-c7c8-4e5c-bb18-1647fb98e38c",
        "executionInfo": {
          "status": "ok",
          "timestamp": 1526743980495,
          "user_tz": -420,
          "elapsed": 1479,
          "user": {
            "displayName": "Outhai SAIOUDOM",
            "photoUrl": "//lh5.googleusercontent.com/-v5oasHENJGw/AAAAAAAAAAI/AAAAAAAAisk/iv-oY523D3o/s50-c-k-no/photo.jpg",
            "userId": "117242230221113736584"
          }
        }
      },
      "cell_type": "code",
      "source": [
        "sorted(simpsons)"
      ],
      "execution_count": 10,
      "outputs": [
        {
          "output_type": "execute_result",
          "data": {
            "text/plain": [
              "['bart', 'homer', 'marge']"
            ]
          },
          "metadata": {
            "tags": []
          },
          "execution_count": 10
        }
      ]
    },
    {
      "metadata": {
        "id": "rFS_6D-xTSWh",
        "colab_type": "code",
        "colab": {
          "autoexec": {
            "startup": false,
            "wait_interval": 0
          },
          "base_uri": "https://localhost:8080/",
          "height": 34
        },
        "outputId": "173edbce-16af-4c91-bd26-1ddaa1aa7294",
        "executionInfo": {
          "status": "ok",
          "timestamp": 1526743990593,
          "user_tz": -420,
          "elapsed": 1496,
          "user": {
            "displayName": "Outhai SAIOUDOM",
            "photoUrl": "//lh5.googleusercontent.com/-v5oasHENJGw/AAAAAAAAAAI/AAAAAAAAisk/iv-oY523D3o/s50-c-k-no/photo.jpg",
            "userId": "117242230221113736584"
          }
        }
      },
      "cell_type": "code",
      "source": [
        "sorted(simpsons, reverse=True)"
      ],
      "execution_count": 11,
      "outputs": [
        {
          "output_type": "execute_result",
          "data": {
            "text/plain": [
              "['marge', 'homer', 'bart']"
            ]
          },
          "metadata": {
            "tags": []
          },
          "execution_count": 11
        }
      ]
    },
    {
      "metadata": {
        "id": "pwub1nd7TSWn",
        "colab_type": "code",
        "colab": {
          "autoexec": {
            "startup": false,
            "wait_interval": 0
          }
        },
        "outputId": "a9b2f96c-5b7f-4fea-ecdb-c80b741265d6"
      },
      "cell_type": "code",
      "source": [
        "sorted(simpsons, key=len)"
      ],
      "execution_count": 0,
      "outputs": [
        {
          "output_type": "execute_result",
          "data": {
            "text/plain": [
              "['lisa', 'itchy', 'krusty', 'scratchy']"
            ]
          },
          "metadata": {
            "tags": []
          },
          "execution_count": 77
        }
      ]
    },
    {
      "metadata": {
        "id": "0qyvXGECTSWr",
        "colab_type": "text"
      },
      "cell_type": "markdown",
      "source": [
        "**Insert into an already sorted list, and keep it sorted:**"
      ]
    },
    {
      "metadata": {
        "id": "yzSAjEPITSWr",
        "colab_type": "code",
        "colab": {
          "autoexec": {
            "startup": false,
            "wait_interval": 0
          }
        },
        "outputId": "25aec1a6-f685-496b-e76a-58e7238db7c1"
      },
      "cell_type": "code",
      "source": [
        "num = [10, 20, 40, 50]\n",
        "from bisect import insort\n",
        "insort(num, 30)\n",
        "num"
      ],
      "execution_count": 0,
      "outputs": [
        {
          "output_type": "execute_result",
          "data": {
            "text/plain": [
              "[10, 20, 30, 40, 50]"
            ]
          },
          "metadata": {
            "tags": []
          },
          "execution_count": 78
        }
      ]
    },
    {
      "metadata": {
        "id": "jokft7D0TSWy",
        "colab_type": "text"
      },
      "cell_type": "markdown",
      "source": [
        "**Object references and copies:**"
      ]
    },
    {
      "metadata": {
        "id": "Drhu0LTrTSW4",
        "colab_type": "code",
        "colab": {
          "autoexec": {
            "startup": false,
            "wait_interval": 0
          }
        }
      },
      "cell_type": "code",
      "source": [
        "# create a second reference to the same list\n",
        "same_num = num"
      ],
      "execution_count": 0,
      "outputs": []
    },
    {
      "metadata": {
        "id": "AO6NrXh2TSW7",
        "colab_type": "code",
        "colab": {
          "autoexec": {
            "startup": false,
            "wait_interval": 0
          }
        },
        "outputId": "807df934-2148-427a-9f27-03e4c1e1d898"
      },
      "cell_type": "code",
      "source": [
        "# modifies both 'num' and 'same_num'\n",
        "same_num[0] = 0\n",
        "print(num)\n",
        "print(same_num)"
      ],
      "execution_count": 0,
      "outputs": [
        {
          "output_type": "stream",
          "text": [
            "[0, 20, 30, 40, 50]\n",
            "[0, 20, 30, 40, 50]\n"
          ],
          "name": "stdout"
        }
      ]
    },
    {
      "metadata": {
        "id": "sVq4eqM9TSW9",
        "colab_type": "code",
        "colab": {
          "autoexec": {
            "startup": false,
            "wait_interval": 0
          }
        }
      },
      "cell_type": "code",
      "source": [
        "# copy a list (two ways)\n",
        "new_num = num[:]\n",
        "new_num = list(num)"
      ],
      "execution_count": 0,
      "outputs": []
    },
    {
      "metadata": {
        "id": "MyJ9GAz-TSW-",
        "colab_type": "text"
      },
      "cell_type": "markdown",
      "source": [
        "**Examine objects:**"
      ]
    },
    {
      "metadata": {
        "id": "X2PEYacoTSW_",
        "colab_type": "code",
        "colab": {
          "autoexec": {
            "startup": false,
            "wait_interval": 0
          }
        },
        "outputId": "58de53fa-2267-48f2-8e3c-e06c0ab477f8"
      },
      "cell_type": "code",
      "source": [
        "num is same_num    # checks whether they are the same object"
      ],
      "execution_count": 0,
      "outputs": [
        {
          "output_type": "execute_result",
          "data": {
            "text/plain": [
              "True"
            ]
          },
          "metadata": {
            "tags": []
          },
          "execution_count": 82
        }
      ]
    },
    {
      "metadata": {
        "id": "nzFQUFDTTSXA",
        "colab_type": "code",
        "colab": {
          "autoexec": {
            "startup": false,
            "wait_interval": 0
          }
        },
        "outputId": "7f72b550-f4af-4e50-cbc9-a1b13fbc1b1f"
      },
      "cell_type": "code",
      "source": [
        "num is new_num"
      ],
      "execution_count": 0,
      "outputs": [
        {
          "output_type": "execute_result",
          "data": {
            "text/plain": [
              "False"
            ]
          },
          "metadata": {
            "tags": []
          },
          "execution_count": 83
        }
      ]
    },
    {
      "metadata": {
        "id": "50mS_CD9TSXC",
        "colab_type": "code",
        "colab": {
          "autoexec": {
            "startup": false,
            "wait_interval": 0
          }
        },
        "outputId": "1559c8fc-f597-4d7d-9718-395eb4fef4a9"
      },
      "cell_type": "code",
      "source": [
        "num == same_num    # checks whether they have the same contents"
      ],
      "execution_count": 0,
      "outputs": [
        {
          "output_type": "execute_result",
          "data": {
            "text/plain": [
              "True"
            ]
          },
          "metadata": {
            "tags": []
          },
          "execution_count": 84
        }
      ]
    },
    {
      "metadata": {
        "id": "VCoby5v5TSXE",
        "colab_type": "code",
        "colab": {
          "autoexec": {
            "startup": false,
            "wait_interval": 0
          }
        },
        "outputId": "a024a5df-cbfd-436e-a279-dd52719e896f"
      },
      "cell_type": "code",
      "source": [
        "num == new_num"
      ],
      "execution_count": 0,
      "outputs": [
        {
          "output_type": "execute_result",
          "data": {
            "text/plain": [
              "True"
            ]
          },
          "metadata": {
            "tags": []
          },
          "execution_count": 85
        }
      ]
    },
    {
      "metadata": {
        "id": "TcFYrdFPTSXG",
        "colab_type": "text"
      },
      "cell_type": "markdown",
      "source": [
        "[<a href=\"#Python-Quick-Reference-by-Data-School\">Back to top</a>]"
      ]
    },
    {
      "metadata": {
        "id": "CI05woeBTSXH",
        "colab_type": "text"
      },
      "cell_type": "markdown",
      "source": [
        "## 7. Tuples\n",
        "\n",
        "- **Tuple properties:** ordered, iterable, immutable, can contain multiple data types\n",
        "- ຄືກັນກັບ List ແຕ່ບໍ່ສາມາດແກ້ໄຂຄ່າສະມາຊິກໄດ້/ Like lists, but they don't change size"
      ]
    },
    {
      "metadata": {
        "id": "UEfbT5gLTSXI",
        "colab_type": "code",
        "colab": {
          "autoexec": {
            "startup": false,
            "wait_interval": 0
          }
        }
      },
      "cell_type": "code",
      "source": [
        "# create a tuple directly\n",
        "digits = (0, 1, 'two')"
      ],
      "execution_count": 0,
      "outputs": []
    },
    {
      "metadata": {
        "id": "zFsxlgTxTSXL",
        "colab_type": "code",
        "colab": {
          "autoexec": {
            "startup": false,
            "wait_interval": 0
          }
        }
      },
      "cell_type": "code",
      "source": [
        "# create a tuple from a list\n",
        "digits = tuple([0, 1, 'two'])"
      ],
      "execution_count": 0,
      "outputs": []
    },
    {
      "metadata": {
        "id": "WqfAu1UxTSXN",
        "colab_type": "code",
        "colab": {
          "autoexec": {
            "startup": false,
            "wait_interval": 0
          }
        }
      },
      "cell_type": "code",
      "source": [
        "# ຫາກຈະສ້າງໂຕແປທີ່ມີສະມາຊິກກຽວກໍໃຫ້ໃສ່ທ້າຍເປັນເຄື່ອງຫມາຍ, ໄວ້ / trailing comma is required to indicate it's a tuple\n",
        "zero = (0,)"
      ],
      "execution_count": 0,
      "outputs": []
    },
    {
      "metadata": {
        "id": "2bJuT-K3TSXQ",
        "colab_type": "text"
      },
      "cell_type": "markdown",
      "source": [
        "**Examine a tuple:**"
      ]
    },
    {
      "metadata": {
        "id": "BWBL2cPeTSXQ",
        "colab_type": "code",
        "colab": {
          "autoexec": {
            "startup": false,
            "wait_interval": 0
          }
        },
        "outputId": "e7af102f-1659-4eb7-c243-3539f0a756ff"
      },
      "cell_type": "code",
      "source": [
        "digits[2]"
      ],
      "execution_count": 0,
      "outputs": [
        {
          "output_type": "execute_result",
          "data": {
            "text/plain": [
              "'two'"
            ]
          },
          "metadata": {
            "tags": []
          },
          "execution_count": 89
        }
      ]
    },
    {
      "metadata": {
        "id": "yxnsIY1mTSXT",
        "colab_type": "code",
        "colab": {
          "autoexec": {
            "startup": false,
            "wait_interval": 0
          }
        },
        "outputId": "8f0b7e71-4b37-4d9f-fc22-24b02a445dbc"
      },
      "cell_type": "code",
      "source": [
        "len(digits)"
      ],
      "execution_count": 0,
      "outputs": [
        {
          "output_type": "execute_result",
          "data": {
            "text/plain": [
              "3"
            ]
          },
          "metadata": {
            "tags": []
          },
          "execution_count": 90
        }
      ]
    },
    {
      "metadata": {
        "id": "dwADBfdATSXW",
        "colab_type": "code",
        "colab": {
          "autoexec": {
            "startup": false,
            "wait_interval": 0
          }
        },
        "outputId": "f1e5c605-005a-46cf-82c3-b8ebd5664faa"
      },
      "cell_type": "code",
      "source": [
        "# counts the number of instances of that value\n",
        "digits.count(0)"
      ],
      "execution_count": 0,
      "outputs": [
        {
          "output_type": "execute_result",
          "data": {
            "text/plain": [
              "1"
            ]
          },
          "metadata": {
            "tags": []
          },
          "execution_count": 91
        }
      ]
    },
    {
      "metadata": {
        "id": "TC-2FUoQTSXb",
        "colab_type": "code",
        "colab": {
          "autoexec": {
            "startup": false,
            "wait_interval": 0
          }
        },
        "outputId": "2520d713-5e0e-4143-c5ce-5da32273cf3d"
      },
      "cell_type": "code",
      "source": [
        "# returns the index of the first instance of that value\n",
        "digits.index(1)"
      ],
      "execution_count": 0,
      "outputs": [
        {
          "output_type": "execute_result",
          "data": {
            "text/plain": [
              "1"
            ]
          },
          "metadata": {
            "tags": []
          },
          "execution_count": 92
        }
      ]
    },
    {
      "metadata": {
        "id": "Vw3VrISmTSXf",
        "colab_type": "text"
      },
      "cell_type": "markdown",
      "source": [
        "**Modify a tuple:**"
      ]
    },
    {
      "metadata": {
        "id": "AN3fymEATSXh",
        "colab_type": "code",
        "colab": {
          "autoexec": {
            "startup": false,
            "wait_interval": 0
          }
        }
      },
      "cell_type": "code",
      "source": [
        "# elements of a tuple cannot be modified (this would throw an error)\n",
        "# digits[2] = 2"
      ],
      "execution_count": 0,
      "outputs": []
    },
    {
      "metadata": {
        "id": "DriKP73pTSXj",
        "colab_type": "code",
        "colab": {
          "autoexec": {
            "startup": false,
            "wait_interval": 0
          }
        },
        "outputId": "b4c3823b-045e-449d-8c5c-96b8a5bd3454"
      },
      "cell_type": "code",
      "source": [
        "# concatenate tuples\n",
        "digits = digits + (3, 4)\n",
        "digits"
      ],
      "execution_count": 0,
      "outputs": [
        {
          "output_type": "execute_result",
          "data": {
            "text/plain": [
              "(0, 1, 'two', 3, 4)"
            ]
          },
          "metadata": {
            "tags": []
          },
          "execution_count": 94
        }
      ]
    },
    {
      "metadata": {
        "id": "BkE6FkvrTSXm",
        "colab_type": "text"
      },
      "cell_type": "markdown",
      "source": [
        "**Other tuple operations:**"
      ]
    },
    {
      "metadata": {
        "id": "BqYY2MRQTSXn",
        "colab_type": "code",
        "colab": {
          "autoexec": {
            "startup": false,
            "wait_interval": 0
          }
        },
        "outputId": "df7b28ef-9bf4-43b7-a862-a8c027494dd3"
      },
      "cell_type": "code",
      "source": [
        "# create a single tuple with elements repeated (also works with lists)\n",
        "(3, 4) * 2"
      ],
      "execution_count": 0,
      "outputs": [
        {
          "output_type": "execute_result",
          "data": {
            "text/plain": [
              "(3, 4, 3, 4)"
            ]
          },
          "metadata": {
            "tags": []
          },
          "execution_count": 95
        }
      ]
    },
    {
      "metadata": {
        "id": "uWUygeWTTSXo",
        "colab_type": "code",
        "colab": {
          "autoexec": {
            "startup": false,
            "wait_interval": 0
          }
        },
        "outputId": "81b30b8a-41dd-4422-e15d-9f734fc3f1b5"
      },
      "cell_type": "code",
      "source": [
        "# sort a list of tuples\n",
        "tens = [(20, 60), (10, 40), (20, 30)]\n",
        "sorted(tens)    # sorts by first element in tuple, then second element"
      ],
      "execution_count": 0,
      "outputs": [
        {
          "output_type": "execute_result",
          "data": {
            "text/plain": [
              "[(10, 40), (20, 30), (20, 60)]"
            ]
          },
          "metadata": {
            "tags": []
          },
          "execution_count": 96
        }
      ]
    },
    {
      "metadata": {
        "id": "hATlWB8gTSXs",
        "colab_type": "code",
        "colab": {
          "autoexec": {
            "startup": false,
            "wait_interval": 0
          }
        },
        "outputId": "37a29975-e775-4fb9-d3be-ce33ce880684"
      },
      "cell_type": "code",
      "source": [
        "# tuple unpacking\n",
        "bart = ('male', 10, 'simpson')    # create a tuple\n",
        "(sex, age, surname) = bart        # assign three values at once\n",
        "print(sex)\n",
        "print(age)\n",
        "print(surname)"
      ],
      "execution_count": 0,
      "outputs": [
        {
          "output_type": "stream",
          "text": [
            "male\n",
            "10\n",
            "simpson\n"
          ],
          "name": "stdout"
        }
      ]
    },
    {
      "metadata": {
        "id": "H8VfbtKqTSXw",
        "colab_type": "text"
      },
      "cell_type": "markdown",
      "source": [
        "[<a href=\"#Python-Quick-Reference-by-Data-School\">Back to top</a>]"
      ]
    },
    {
      "metadata": {
        "id": "v97mpfaiTSXx",
        "colab_type": "text"
      },
      "cell_type": "markdown",
      "source": [
        "## 8. ຂໍ້ມູນປະເພດໂຕອັກສອນ / Strings\n",
        "\n",
        "- **String properties:** iterable, immutable"
      ]
    },
    {
      "metadata": {
        "id": "7mWs10t7TSXx",
        "colab_type": "code",
        "colab": {
          "autoexec": {
            "startup": false,
            "wait_interval": 0
          }
        },
        "outputId": "5e0c29af-7ee5-4196-efed-c0364fe82f6e"
      },
      "cell_type": "code",
      "source": [
        "# convert another data type into a string\n",
        "s = str(42)\n",
        "s"
      ],
      "execution_count": 0,
      "outputs": [
        {
          "output_type": "execute_result",
          "data": {
            "text/plain": [
              "'42'"
            ]
          },
          "metadata": {
            "tags": []
          },
          "execution_count": 98
        }
      ]
    },
    {
      "metadata": {
        "id": "PqeMmbzeTSXz",
        "colab_type": "code",
        "colab": {
          "autoexec": {
            "startup": false,
            "wait_interval": 0
          }
        }
      },
      "cell_type": "code",
      "source": [
        "# ການປະກາດໂຕແປປະເພດ String / create a string directly\n",
        "s = 'I like you'"
      ],
      "execution_count": 0,
      "outputs": []
    },
    {
      "metadata": {
        "id": "0MFd9CN9TSX0",
        "colab_type": "text"
      },
      "cell_type": "markdown",
      "source": [
        "**Examine a string:**"
      ]
    },
    {
      "metadata": {
        "id": "VpkgIz3gTSX1",
        "colab_type": "code",
        "colab": {
          "autoexec": {
            "startup": false,
            "wait_interval": 0
          }
        },
        "outputId": "a874c4bf-d249-45f8-c6f9-4df3088bdc76"
      },
      "cell_type": "code",
      "source": [
        "#ເບິ່ງ ໂຕອັກສອນທີ່ຢູ່ໃນລຳດັບຕ່າງໆ\n",
        "s[0]"
      ],
      "execution_count": 0,
      "outputs": [
        {
          "output_type": "execute_result",
          "data": {
            "text/plain": [
              "'I'"
            ]
          },
          "metadata": {
            "tags": []
          },
          "execution_count": 100
        }
      ]
    },
    {
      "metadata": {
        "id": "H7a9sC7ATSX2",
        "colab_type": "code",
        "colab": {
          "autoexec": {
            "startup": false,
            "wait_interval": 0
          }
        },
        "outputId": "f6904ff1-6e4b-4383-c10b-8a828ae885f7"
      },
      "cell_type": "code",
      "source": [
        "#ນັບຈຳນວນໂຕອັກສອນໃນໂຕແປ\n",
        "len(s)"
      ],
      "execution_count": 0,
      "outputs": [
        {
          "output_type": "execute_result",
          "data": {
            "text/plain": [
              "10"
            ]
          },
          "metadata": {
            "tags": []
          },
          "execution_count": 101
        }
      ]
    },
    {
      "metadata": {
        "id": "DsaAH8RPTSX4",
        "colab_type": "text"
      },
      "cell_type": "markdown",
      "source": [
        "**ການແບ່ງຊອຍ String slicing is like list slicing:**"
      ]
    },
    {
      "metadata": {
        "id": "IJdWqo_MTSX5",
        "colab_type": "code",
        "colab": {
          "autoexec": {
            "startup": false,
            "wait_interval": 0
          }
        },
        "outputId": "c97b8c96-2b0e-416d-b350-7f35d2316e57"
      },
      "cell_type": "code",
      "source": [
        "s[:6]"
      ],
      "execution_count": 0,
      "outputs": [
        {
          "output_type": "execute_result",
          "data": {
            "text/plain": [
              "'I like'"
            ]
          },
          "metadata": {
            "tags": []
          },
          "execution_count": 102
        }
      ]
    },
    {
      "metadata": {
        "id": "QAIn0bh4TSX-",
        "colab_type": "code",
        "colab": {
          "autoexec": {
            "startup": false,
            "wait_interval": 0
          }
        },
        "outputId": "3ca8fbf7-45e8-4d1d-b52f-2bf7db0922be"
      },
      "cell_type": "code",
      "source": [
        "s[7:]"
      ],
      "execution_count": 0,
      "outputs": [
        {
          "output_type": "execute_result",
          "data": {
            "text/plain": [
              "'you'"
            ]
          },
          "metadata": {
            "tags": []
          },
          "execution_count": 103
        }
      ]
    },
    {
      "metadata": {
        "id": "DSL4gqDVTSYA",
        "colab_type": "code",
        "colab": {
          "autoexec": {
            "startup": false,
            "wait_interval": 0
          }
        },
        "outputId": "24e9b2ba-6166-4407-aabd-9a7c325c488b"
      },
      "cell_type": "code",
      "source": [
        "s[-1]"
      ],
      "execution_count": 0,
      "outputs": [
        {
          "output_type": "execute_result",
          "data": {
            "text/plain": [
              "'u'"
            ]
          },
          "metadata": {
            "tags": []
          },
          "execution_count": 104
        }
      ]
    },
    {
      "metadata": {
        "id": "6gKBqIBXTSYC",
        "colab_type": "text"
      },
      "cell_type": "markdown",
      "source": [
        "**Basic string methods (does not modify the original string):**"
      ]
    },
    {
      "metadata": {
        "id": "loSAB36kTSYD",
        "colab_type": "code",
        "colab": {
          "autoexec": {
            "startup": false,
            "wait_interval": 0
          }
        },
        "outputId": "756d7730-b63e-4b67-ad97-aa4831e74440"
      },
      "cell_type": "code",
      "source": [
        "s.lower()"
      ],
      "execution_count": 0,
      "outputs": [
        {
          "output_type": "execute_result",
          "data": {
            "text/plain": [
              "'i like you'"
            ]
          },
          "metadata": {
            "tags": []
          },
          "execution_count": 105
        }
      ]
    },
    {
      "metadata": {
        "id": "MGqpnpf5TSYF",
        "colab_type": "code",
        "colab": {
          "autoexec": {
            "startup": false,
            "wait_interval": 0
          }
        },
        "outputId": "6596f221-cdf7-416e-de22-ab9d71809384"
      },
      "cell_type": "code",
      "source": [
        "s.upper()"
      ],
      "execution_count": 0,
      "outputs": [
        {
          "output_type": "execute_result",
          "data": {
            "text/plain": [
              "'I LIKE YOU'"
            ]
          },
          "metadata": {
            "tags": []
          },
          "execution_count": 106
        }
      ]
    },
    {
      "metadata": {
        "id": "gyn3mbxsTSYH",
        "colab_type": "code",
        "colab": {
          "autoexec": {
            "startup": false,
            "wait_interval": 0
          }
        },
        "outputId": "31165a4a-6a20-428d-db49-d36306042cad"
      },
      "cell_type": "code",
      "source": [
        "s.startswith('I')"
      ],
      "execution_count": 0,
      "outputs": [
        {
          "output_type": "execute_result",
          "data": {
            "text/plain": [
              "True"
            ]
          },
          "metadata": {
            "tags": []
          },
          "execution_count": 107
        }
      ]
    },
    {
      "metadata": {
        "id": "CsP4jl40TSYI",
        "colab_type": "code",
        "colab": {
          "autoexec": {
            "startup": false,
            "wait_interval": 0
          }
        },
        "outputId": "eb9d8c57-7a8f-4daf-cd42-ed1a2f08fb36"
      },
      "cell_type": "code",
      "source": [
        "s.endswith('you')"
      ],
      "execution_count": 0,
      "outputs": [
        {
          "output_type": "execute_result",
          "data": {
            "text/plain": [
              "True"
            ]
          },
          "metadata": {
            "tags": []
          },
          "execution_count": 108
        }
      ]
    },
    {
      "metadata": {
        "id": "G-XfIYdETSYK",
        "colab_type": "code",
        "colab": {
          "autoexec": {
            "startup": false,
            "wait_interval": 0
          }
        },
        "outputId": "31b97d90-3382-48b9-c8e0-ad49069bc25b"
      },
      "cell_type": "code",
      "source": [
        "# checks whether every character in the string is a digit\n",
        "s.isdigit()"
      ],
      "execution_count": 0,
      "outputs": [
        {
          "output_type": "execute_result",
          "data": {
            "text/plain": [
              "False"
            ]
          },
          "metadata": {
            "tags": []
          },
          "execution_count": 109
        }
      ]
    },
    {
      "metadata": {
        "id": "YskmJMOOTSYL",
        "colab_type": "code",
        "colab": {
          "autoexec": {
            "startup": false,
            "wait_interval": 0
          }
        },
        "outputId": "72491bb7-50d5-4841-f9bf-1a5c8e542952"
      },
      "cell_type": "code",
      "source": [
        "# returns index of first occurrence, but doesn't support regex\n",
        "s.find('like')"
      ],
      "execution_count": 0,
      "outputs": [
        {
          "output_type": "execute_result",
          "data": {
            "text/plain": [
              "2"
            ]
          },
          "metadata": {
            "tags": []
          },
          "execution_count": 110
        }
      ]
    },
    {
      "metadata": {
        "id": "ptdZ4AZMTSYP",
        "colab_type": "code",
        "colab": {
          "autoexec": {
            "startup": false,
            "wait_interval": 0
          }
        },
        "outputId": "f635ebdd-cb16-4f53-fb41-5389a8da3edc"
      },
      "cell_type": "code",
      "source": [
        "# returns -1 since not found\n",
        "s.find('hate')"
      ],
      "execution_count": 0,
      "outputs": [
        {
          "output_type": "execute_result",
          "data": {
            "text/plain": [
              "-1"
            ]
          },
          "metadata": {
            "tags": []
          },
          "execution_count": 111
        }
      ]
    },
    {
      "metadata": {
        "id": "cqoaQ6PBTSYS",
        "colab_type": "code",
        "colab": {
          "autoexec": {
            "startup": false,
            "wait_interval": 0
          }
        },
        "outputId": "f8547763-284f-43eb-ed5a-b2316de104d3"
      },
      "cell_type": "code",
      "source": [
        "# replaces all instances of 'like' with 'love'\n",
        "s.replace('like', 'love')"
      ],
      "execution_count": 0,
      "outputs": [
        {
          "output_type": "execute_result",
          "data": {
            "text/plain": [
              "'I love you'"
            ]
          },
          "metadata": {
            "tags": []
          },
          "execution_count": 112
        }
      ]
    },
    {
      "metadata": {
        "id": "PwMPLXFsTSYV",
        "colab_type": "text"
      },
      "cell_type": "markdown",
      "source": [
        "**Split a string:**"
      ]
    },
    {
      "metadata": {
        "id": "AMJK9pJ8TSYX",
        "colab_type": "code",
        "colab": {
          "autoexec": {
            "startup": false,
            "wait_interval": 0
          }
        },
        "outputId": "0325ccf9-9291-4866-dfa9-745a7180179b"
      },
      "cell_type": "code",
      "source": [
        "# split a string into a list of substrings separated by a delimiter\n",
        "s.split(' ')"
      ],
      "execution_count": 0,
      "outputs": [
        {
          "output_type": "execute_result",
          "data": {
            "text/plain": [
              "['I', 'like', 'you']"
            ]
          },
          "metadata": {
            "tags": []
          },
          "execution_count": 113
        }
      ]
    },
    {
      "metadata": {
        "id": "fWT4ViImTSYb",
        "colab_type": "code",
        "colab": {
          "autoexec": {
            "startup": false,
            "wait_interval": 0
          }
        },
        "outputId": "6652cac3-f24b-42d4-e0ca-04059f0205ec"
      },
      "cell_type": "code",
      "source": [
        "# equivalent (since space is the default delimiter)\n",
        "s.split()"
      ],
      "execution_count": 0,
      "outputs": [
        {
          "output_type": "execute_result",
          "data": {
            "text/plain": [
              "['I', 'like', 'you']"
            ]
          },
          "metadata": {
            "tags": []
          },
          "execution_count": 114
        }
      ]
    },
    {
      "metadata": {
        "id": "arrcup-TTSYd",
        "colab_type": "code",
        "colab": {
          "autoexec": {
            "startup": false,
            "wait_interval": 0
          }
        },
        "outputId": "712e6ef9-3bc5-4dd0-e9b1-8e88aef87364"
      },
      "cell_type": "code",
      "source": [
        "s2 = 'a, an, the'\n",
        "s2.split(',')"
      ],
      "execution_count": 0,
      "outputs": [
        {
          "output_type": "execute_result",
          "data": {
            "text/plain": [
              "['a', ' an', ' the']"
            ]
          },
          "metadata": {
            "tags": []
          },
          "execution_count": 115
        }
      ]
    },
    {
      "metadata": {
        "id": "qlso5vZaTSYg",
        "colab_type": "text"
      },
      "cell_type": "markdown",
      "source": [
        "**Join or concatenate strings:**"
      ]
    },
    {
      "metadata": {
        "id": "fbpQo4a5TSYg",
        "colab_type": "code",
        "colab": {
          "autoexec": {
            "startup": false,
            "wait_interval": 0
          }
        },
        "outputId": "d9132c9b-01bc-44d3-9d29-0d79284910fe"
      },
      "cell_type": "code",
      "source": [
        "# join a list of strings into one string using a delimiter\n",
        "stooges = ['larry', 'curly', 'moe']\n",
        "' '.join(stooges)"
      ],
      "execution_count": 0,
      "outputs": [
        {
          "output_type": "execute_result",
          "data": {
            "text/plain": [
              "'larry curly moe'"
            ]
          },
          "metadata": {
            "tags": []
          },
          "execution_count": 116
        }
      ]
    },
    {
      "metadata": {
        "id": "fXlycc7fTSYi",
        "colab_type": "code",
        "colab": {
          "autoexec": {
            "startup": false,
            "wait_interval": 0
          }
        },
        "outputId": "3b423364-fb89-48cb-fd32-c908db72001e"
      },
      "cell_type": "code",
      "source": [
        "# ການຊື່ອມ String / concatenate strings\n",
        "s3 = 'The meaning of life is'\n",
        "s4 = '42'\n",
        "s3 + ' ' + s4"
      ],
      "execution_count": 0,
      "outputs": [
        {
          "output_type": "execute_result",
          "data": {
            "text/plain": [
              "'The meaning of life is 42'"
            ]
          },
          "metadata": {
            "tags": []
          },
          "execution_count": 117
        }
      ]
    },
    {
      "metadata": {
        "id": "zohjVnnqTSYm",
        "colab_type": "text"
      },
      "cell_type": "markdown",
      "source": [
        "**Remove whitespace from the start and end of a string:**"
      ]
    },
    {
      "metadata": {
        "id": "iz-OsV6UTSYm",
        "colab_type": "code",
        "colab": {
          "autoexec": {
            "startup": false,
            "wait_interval": 0
          }
        },
        "outputId": "0e9856b4-8da4-4da6-abc1-2a0a4fe95b7f"
      },
      "cell_type": "code",
      "source": [
        "#ການລຶບຊ່ອງວ່າງຈາກທາງຫນ້າຫລືທາງຫລັງອອກ\n",
        "s5 = '  ham and cheese  '\n",
        "s5.strip()"
      ],
      "execution_count": 0,
      "outputs": [
        {
          "output_type": "execute_result",
          "data": {
            "text/plain": [
              "'ham and cheese'"
            ]
          },
          "metadata": {
            "tags": []
          },
          "execution_count": 118
        }
      ]
    },
    {
      "metadata": {
        "id": "P35XWuLFTSYq",
        "colab_type": "text"
      },
      "cell_type": "markdown",
      "source": [
        "**String substitutions:**"
      ]
    },
    {
      "metadata": {
        "id": "BR3MI1hLTSYq",
        "colab_type": "code",
        "colab": {
          "autoexec": {
            "startup": false,
            "wait_interval": 0
          }
        },
        "outputId": "ad0c39ba-8b92-40f6-df15-86f25feccef1"
      },
      "cell_type": "code",
      "source": [
        "# old way\n",
        "'raining %s and %s' % ('cats', 'dogs')"
      ],
      "execution_count": 0,
      "outputs": [
        {
          "output_type": "execute_result",
          "data": {
            "text/plain": [
              "'raining cats and dogs'"
            ]
          },
          "metadata": {
            "tags": []
          },
          "execution_count": 119
        }
      ]
    },
    {
      "metadata": {
        "id": "iyT8kQCrTSYu",
        "colab_type": "code",
        "colab": {
          "autoexec": {
            "startup": false,
            "wait_interval": 0
          }
        },
        "outputId": "ee3f83f7-b12e-45ad-c41a-367201a1e6a8"
      },
      "cell_type": "code",
      "source": [
        "# new way\n",
        "'raining {} and {}'.format('cats', 'dogs')"
      ],
      "execution_count": 0,
      "outputs": [
        {
          "output_type": "execute_result",
          "data": {
            "text/plain": [
              "'raining cats and dogs'"
            ]
          },
          "metadata": {
            "tags": []
          },
          "execution_count": 120
        }
      ]
    },
    {
      "metadata": {
        "id": "LHhlB_G0TSYx",
        "colab_type": "code",
        "colab": {
          "autoexec": {
            "startup": false,
            "wait_interval": 0
          }
        },
        "outputId": "ab63182b-70dc-4d05-f6d8-b872a4037dd7"
      },
      "cell_type": "code",
      "source": [
        "# new way (using named arguments)\n",
        "'raining {arg1} and {arg2}'.format(arg1='cats', arg2='dogs')"
      ],
      "execution_count": 0,
      "outputs": [
        {
          "output_type": "execute_result",
          "data": {
            "text/plain": [
              "'raining cats and dogs'"
            ]
          },
          "metadata": {
            "tags": []
          },
          "execution_count": 121
        }
      ]
    },
    {
      "metadata": {
        "id": "jsxFTqG3TSY1",
        "colab_type": "text"
      },
      "cell_type": "markdown",
      "source": [
        "**String formatting ([more examples](https://mkaz.tech/python-string-format.html)):**"
      ]
    },
    {
      "metadata": {
        "id": "YPk90OE9TSY2",
        "colab_type": "code",
        "colab": {
          "autoexec": {
            "startup": false,
            "wait_interval": 0
          }
        },
        "outputId": "c6ad42d7-5c37-454f-da38-ef5ef2108b21"
      },
      "cell_type": "code",
      "source": [
        "# use 2 decimal places\n",
        "'pi is {:.2f}'.format(3.14159)"
      ],
      "execution_count": 0,
      "outputs": [
        {
          "output_type": "execute_result",
          "data": {
            "text/plain": [
              "'pi is 3.14'"
            ]
          },
          "metadata": {
            "tags": []
          },
          "execution_count": 122
        }
      ]
    },
    {
      "metadata": {
        "id": "6aHEIVvtTSY4",
        "colab_type": "text"
      },
      "cell_type": "markdown",
      "source": [
        "**Normal strings versus raw strings:**"
      ]
    },
    {
      "metadata": {
        "id": "xG0rOtpaTSY5",
        "colab_type": "code",
        "colab": {
          "autoexec": {
            "startup": false,
            "wait_interval": 0
          }
        },
        "outputId": "4e9087d5-fb18-43c8-cba5-415aebe2469d"
      },
      "cell_type": "code",
      "source": [
        "# normal strings allow for escaped characters\n",
        "print('first line\\nsecond line')"
      ],
      "execution_count": 0,
      "outputs": [
        {
          "output_type": "stream",
          "text": [
            "first line\n",
            "second line\n"
          ],
          "name": "stdout"
        }
      ]
    },
    {
      "metadata": {
        "id": "cpgQM17pTSY8",
        "colab_type": "code",
        "colab": {
          "autoexec": {
            "startup": false,
            "wait_interval": 0
          }
        },
        "outputId": "0cbebc89-342d-480e-d1a4-ca1c27936d20"
      },
      "cell_type": "code",
      "source": [
        "# raw strings treat backslashes as literal characters\n",
        "print(r'first line\\nfirst line')"
      ],
      "execution_count": 0,
      "outputs": [
        {
          "output_type": "stream",
          "text": [
            "first line\\nfirst line\n"
          ],
          "name": "stdout"
        }
      ]
    },
    {
      "metadata": {
        "id": "pUxvV0AlTSY-",
        "colab_type": "text"
      },
      "cell_type": "markdown",
      "source": [
        "[<a href=\"#Python-Quick-Reference-by-Data-School\">Back to top</a>]"
      ]
    },
    {
      "metadata": {
        "id": "hdGJU_UMTSY-",
        "colab_type": "text"
      },
      "cell_type": "markdown",
      "source": [
        "## 9. Dictionaries\n",
        "\n",
        "- **ລັກສະນະຂອງ Dictionary :** ບໍ່ຈັດລຽງ (unordered), ເຮັດLoop ໄດ້ (iterable),  (ສະມາຊິກແກ້ໄຊໄດ້) mutable, can contain multiple data types\n",
        "- Made of key-value pairs\n",
        "- Keys must be unique, and can be strings, numbers, or tuples\n",
        "- Values can be any type"
      ]
    },
    {
      "metadata": {
        "id": "hMe42sXWTSY_",
        "colab_type": "code",
        "colab": {
          "autoexec": {
            "startup": false,
            "wait_interval": 0
          }
        }
      },
      "cell_type": "code",
      "source": [
        "# create an empty dictionary (two ways)\n",
        "empty_dict = {}\n",
        "empty_dict = dict()"
      ],
      "execution_count": 0,
      "outputs": []
    },
    {
      "metadata": {
        "id": "EEXpK9UrTSZB",
        "colab_type": "code",
        "colab": {
          "autoexec": {
            "startup": false,
            "wait_interval": 0
          }
        },
        "outputId": "9e2ebb94-1ef6-4c4d-eedd-4fa0ffa5601a"
      },
      "cell_type": "code",
      "source": [
        "# create a dictionary (two ways)\n",
        "family = {'dad':'homer', 'mom':'marge', 'size':6}\n",
        "family = dict(dad='homer', mom='marge', size=6)\n",
        "family"
      ],
      "execution_count": 0,
      "outputs": [
        {
          "output_type": "execute_result",
          "data": {
            "text/plain": [
              "{'dad': 'homer', 'mom': 'marge', 'size': 6}"
            ]
          },
          "metadata": {
            "tags": []
          },
          "execution_count": 126
        }
      ]
    },
    {
      "metadata": {
        "id": "ngl8PgQFTSZD",
        "colab_type": "code",
        "colab": {
          "autoexec": {
            "startup": false,
            "wait_interval": 0
          }
        },
        "outputId": "1f1fa2e7-20dc-4269-8185-cff067939d9c"
      },
      "cell_type": "code",
      "source": [
        "# convert a list of tuples into a dictionary\n",
        "list_of_tuples = [('dad', 'homer'), ('mom', 'marge'), ('size', 6)]\n",
        "family = dict(list_of_tuples)\n",
        "family"
      ],
      "execution_count": 0,
      "outputs": [
        {
          "output_type": "execute_result",
          "data": {
            "text/plain": [
              "{'dad': 'homer', 'mom': 'marge', 'size': 6}"
            ]
          },
          "metadata": {
            "tags": []
          },
          "execution_count": 127
        }
      ]
    },
    {
      "metadata": {
        "id": "G_4mK1q_TSZG",
        "colab_type": "text"
      },
      "cell_type": "markdown",
      "source": [
        "**Examine a dictionary:**"
      ]
    },
    {
      "metadata": {
        "id": "bvKo8bTvTSZH",
        "colab_type": "code",
        "colab": {
          "autoexec": {
            "startup": false,
            "wait_interval": 0
          }
        },
        "outputId": "ea2ffe76-091a-483d-90a7-480cadb34f71"
      },
      "cell_type": "code",
      "source": [
        "# pass a key to return its value\n",
        "family['dad']"
      ],
      "execution_count": 0,
      "outputs": [
        {
          "output_type": "execute_result",
          "data": {
            "text/plain": [
              "'homer'"
            ]
          },
          "metadata": {
            "tags": []
          },
          "execution_count": 128
        }
      ]
    },
    {
      "metadata": {
        "id": "6FpwPTFKTSZK",
        "colab_type": "code",
        "colab": {
          "autoexec": {
            "startup": false,
            "wait_interval": 0
          }
        },
        "outputId": "12236617-fb8e-4faf-85b0-6e5975d1000c"
      },
      "cell_type": "code",
      "source": [
        "# return the number of key-value pairs\n",
        "len(family)"
      ],
      "execution_count": 0,
      "outputs": [
        {
          "output_type": "execute_result",
          "data": {
            "text/plain": [
              "3"
            ]
          },
          "metadata": {
            "tags": []
          },
          "execution_count": 129
        }
      ]
    },
    {
      "metadata": {
        "id": "KJPGn7ehTSZL",
        "colab_type": "code",
        "colab": {
          "autoexec": {
            "startup": false,
            "wait_interval": 0
          }
        },
        "outputId": "f020b774-c2d6-4067-cfe0-b9714e42bc2c"
      },
      "cell_type": "code",
      "source": [
        "# check if key exists in dictionary\n",
        "'mom' in family"
      ],
      "execution_count": 0,
      "outputs": [
        {
          "output_type": "execute_result",
          "data": {
            "text/plain": [
              "True"
            ]
          },
          "metadata": {
            "tags": []
          },
          "execution_count": 130
        }
      ]
    },
    {
      "metadata": {
        "id": "aBeCl_TiTSZP",
        "colab_type": "code",
        "colab": {
          "autoexec": {
            "startup": false,
            "wait_interval": 0
          }
        },
        "outputId": "03f71f41-9844-41bc-bedd-85e5117ac67a"
      },
      "cell_type": "code",
      "source": [
        "# dictionary values are not checked\n",
        "'marge' in family"
      ],
      "execution_count": 0,
      "outputs": [
        {
          "output_type": "execute_result",
          "data": {
            "text/plain": [
              "False"
            ]
          },
          "metadata": {
            "tags": []
          },
          "execution_count": 131
        }
      ]
    },
    {
      "metadata": {
        "id": "3q8uTp6DTSZS",
        "colab_type": "code",
        "colab": {
          "autoexec": {
            "startup": false,
            "wait_interval": 0
          }
        },
        "outputId": "1ff48111-853a-4699-a859-b6141993622e"
      },
      "cell_type": "code",
      "source": [
        "# returns a list of keys (Python 2) or an iterable view (Python 3)\n",
        "family.keys()"
      ],
      "execution_count": 0,
      "outputs": [
        {
          "output_type": "execute_result",
          "data": {
            "text/plain": [
              "['dad', 'mom', 'size']"
            ]
          },
          "metadata": {
            "tags": []
          },
          "execution_count": 132
        }
      ]
    },
    {
      "metadata": {
        "id": "srEQ18s2TSZV",
        "colab_type": "code",
        "colab": {
          "autoexec": {
            "startup": false,
            "wait_interval": 0
          }
        },
        "outputId": "305907dc-1330-41d6-b477-ed0e147f2ba2"
      },
      "cell_type": "code",
      "source": [
        "# returns a list of values (Python 2) or an iterable view (Python 3)\n",
        "family.values()"
      ],
      "execution_count": 0,
      "outputs": [
        {
          "output_type": "execute_result",
          "data": {
            "text/plain": [
              "['homer', 'marge', 6]"
            ]
          },
          "metadata": {
            "tags": []
          },
          "execution_count": 133
        }
      ]
    },
    {
      "metadata": {
        "id": "bnjx6KQFTSZl",
        "colab_type": "code",
        "colab": {
          "autoexec": {
            "startup": false,
            "wait_interval": 0
          }
        },
        "outputId": "56b6dd02-ef2f-4d77-bb16-9fd565f8875e"
      },
      "cell_type": "code",
      "source": [
        "# returns a list of key-value pairs (Python 2) or an iterable view (Python 3)\n",
        "family.items()"
      ],
      "execution_count": 0,
      "outputs": [
        {
          "output_type": "execute_result",
          "data": {
            "text/plain": [
              "[('dad', 'homer'), ('mom', 'marge'), ('size', 6)]"
            ]
          },
          "metadata": {
            "tags": []
          },
          "execution_count": 134
        }
      ]
    },
    {
      "metadata": {
        "id": "Nm8d_bsFTSZn",
        "colab_type": "text"
      },
      "cell_type": "markdown",
      "source": [
        "**Modify a dictionary (does not return the dictionary):**"
      ]
    },
    {
      "metadata": {
        "id": "ak37OyBJTSZn",
        "colab_type": "code",
        "colab": {
          "autoexec": {
            "startup": false,
            "wait_interval": 0
          }
        },
        "outputId": "b013c902-6347-4768-e385-ed2da91d5fed"
      },
      "cell_type": "code",
      "source": [
        "# add a new entry\n",
        "family['cat'] = 'snowball'\n",
        "family"
      ],
      "execution_count": 0,
      "outputs": [
        {
          "output_type": "execute_result",
          "data": {
            "text/plain": [
              "{'cat': 'snowball', 'dad': 'homer', 'mom': 'marge', 'size': 6}"
            ]
          },
          "metadata": {
            "tags": []
          },
          "execution_count": 135
        }
      ]
    },
    {
      "metadata": {
        "id": "TWwLONhsTSZp",
        "colab_type": "code",
        "colab": {
          "autoexec": {
            "startup": false,
            "wait_interval": 0
          }
        },
        "outputId": "ad244bc7-8cb5-417e-dc65-c6caa7e22d0a"
      },
      "cell_type": "code",
      "source": [
        "# edit an existing entry\n",
        "family['cat'] = 'snowball ii'\n",
        "family"
      ],
      "execution_count": 0,
      "outputs": [
        {
          "output_type": "execute_result",
          "data": {
            "text/plain": [
              "{'cat': 'snowball ii', 'dad': 'homer', 'mom': 'marge', 'size': 6}"
            ]
          },
          "metadata": {
            "tags": []
          },
          "execution_count": 136
        }
      ]
    },
    {
      "metadata": {
        "id": "igA_GBMrTSZs",
        "colab_type": "code",
        "colab": {
          "autoexec": {
            "startup": false,
            "wait_interval": 0
          }
        },
        "outputId": "f2bc854a-f2d3-45f3-a361-61e338e3d469"
      },
      "cell_type": "code",
      "source": [
        "# delete an entry\n",
        "del family['cat']\n",
        "family"
      ],
      "execution_count": 0,
      "outputs": [
        {
          "output_type": "execute_result",
          "data": {
            "text/plain": [
              "{'dad': 'homer', 'mom': 'marge', 'size': 6}"
            ]
          },
          "metadata": {
            "tags": []
          },
          "execution_count": 137
        }
      ]
    },
    {
      "metadata": {
        "id": "R1I-gq35TSZt",
        "colab_type": "code",
        "colab": {
          "autoexec": {
            "startup": false,
            "wait_interval": 0
          }
        },
        "outputId": "3db28cd3-11b9-493e-af06-36dcb6ee79e2"
      },
      "cell_type": "code",
      "source": [
        "# dictionary value can be a list\n",
        "family['kids'] = ['bart', 'lisa']\n",
        "family"
      ],
      "execution_count": 0,
      "outputs": [
        {
          "output_type": "execute_result",
          "data": {
            "text/plain": [
              "{'dad': 'homer', 'kids': ['bart', 'lisa'], 'mom': 'marge', 'size': 6}"
            ]
          },
          "metadata": {
            "tags": []
          },
          "execution_count": 138
        }
      ]
    },
    {
      "metadata": {
        "id": "vmuNAjiQTSZv",
        "colab_type": "code",
        "colab": {
          "autoexec": {
            "startup": false,
            "wait_interval": 0
          }
        },
        "outputId": "59a49f5f-f312-46dd-9cca-c941033e67ec"
      },
      "cell_type": "code",
      "source": [
        "# remove an entry and return the value\n",
        "family.pop('dad')"
      ],
      "execution_count": 0,
      "outputs": [
        {
          "output_type": "execute_result",
          "data": {
            "text/plain": [
              "'homer'"
            ]
          },
          "metadata": {
            "tags": []
          },
          "execution_count": 139
        }
      ]
    },
    {
      "metadata": {
        "id": "7n8oydqTTSZx",
        "colab_type": "code",
        "colab": {
          "autoexec": {
            "startup": false,
            "wait_interval": 0
          }
        },
        "outputId": "9c639032-dd04-44ae-ac48-4dfcfe1b864a"
      },
      "cell_type": "code",
      "source": [
        "# add multiple entries\n",
        "family.update({'baby':'maggie', 'grandpa':'abe'})\n",
        "family"
      ],
      "execution_count": 0,
      "outputs": [
        {
          "output_type": "execute_result",
          "data": {
            "text/plain": [
              "{'baby': 'maggie',\n",
              " 'grandpa': 'abe',\n",
              " 'kids': ['bart', 'lisa'],\n",
              " 'mom': 'marge',\n",
              " 'size': 6}"
            ]
          },
          "metadata": {
            "tags": []
          },
          "execution_count": 140
        }
      ]
    },
    {
      "metadata": {
        "id": "ErowYt_DTSZz",
        "colab_type": "text"
      },
      "cell_type": "markdown",
      "source": [
        "**Access values more safely with `get`:**"
      ]
    },
    {
      "metadata": {
        "id": "xc0sYUAqTSZz",
        "colab_type": "code",
        "colab": {
          "autoexec": {
            "startup": false,
            "wait_interval": 0
          }
        },
        "outputId": "bbc1b4da-b66f-40f1-81f0-2f69fefdccda"
      },
      "cell_type": "code",
      "source": [
        "family['mom']"
      ],
      "execution_count": 0,
      "outputs": [
        {
          "output_type": "execute_result",
          "data": {
            "text/plain": [
              "'marge'"
            ]
          },
          "metadata": {
            "tags": []
          },
          "execution_count": 141
        }
      ]
    },
    {
      "metadata": {
        "id": "EUzRtRyeTSZ1",
        "colab_type": "code",
        "colab": {
          "autoexec": {
            "startup": false,
            "wait_interval": 0
          }
        },
        "outputId": "da097bd5-ae74-4be4-9388-555efd4aa449"
      },
      "cell_type": "code",
      "source": [
        "# equivalent to a dictionary lookup\n",
        "family.get('mom')"
      ],
      "execution_count": 0,
      "outputs": [
        {
          "output_type": "execute_result",
          "data": {
            "text/plain": [
              "'marge'"
            ]
          },
          "metadata": {
            "tags": []
          },
          "execution_count": 142
        }
      ]
    },
    {
      "metadata": {
        "id": "HJ-DSGtSTSZ3",
        "colab_type": "code",
        "colab": {
          "autoexec": {
            "startup": false,
            "wait_interval": 0
          }
        }
      },
      "cell_type": "code",
      "source": [
        "# this would throw an error since the key does not exist\n",
        "# family['grandma']"
      ],
      "execution_count": 0,
      "outputs": []
    },
    {
      "metadata": {
        "id": "2TsEOrtMTSZ4",
        "colab_type": "code",
        "colab": {
          "autoexec": {
            "startup": false,
            "wait_interval": 0
          }
        }
      },
      "cell_type": "code",
      "source": [
        "# return None if not found\n",
        "family.get('grandma')"
      ],
      "execution_count": 0,
      "outputs": []
    },
    {
      "metadata": {
        "id": "HiYJWrw6TSZ6",
        "colab_type": "code",
        "colab": {
          "autoexec": {
            "startup": false,
            "wait_interval": 0
          }
        },
        "outputId": "a97ef4f4-b081-434b-ecfc-41f4f64dae3b"
      },
      "cell_type": "code",
      "source": [
        "# provide a default return value if not found\n",
        "family.get('grandma', 'not found')"
      ],
      "execution_count": 0,
      "outputs": [
        {
          "output_type": "execute_result",
          "data": {
            "text/plain": [
              "'not found'"
            ]
          },
          "metadata": {
            "tags": []
          },
          "execution_count": 145
        }
      ]
    },
    {
      "metadata": {
        "id": "Adv2ZV7fTSZ8",
        "colab_type": "text"
      },
      "cell_type": "markdown",
      "source": [
        "**Access a list element within a dictionary:**"
      ]
    },
    {
      "metadata": {
        "id": "oyE_r97eTSZ9",
        "colab_type": "code",
        "colab": {
          "autoexec": {
            "startup": false,
            "wait_interval": 0
          }
        },
        "outputId": "8c6b642d-3ea4-44fe-92cd-e63a249cf645"
      },
      "cell_type": "code",
      "source": [
        "family['kids'][0]"
      ],
      "execution_count": 0,
      "outputs": [
        {
          "output_type": "execute_result",
          "data": {
            "text/plain": [
              "'bart'"
            ]
          },
          "metadata": {
            "tags": []
          },
          "execution_count": 146
        }
      ]
    },
    {
      "metadata": {
        "id": "GRzPsoKUTSZ_",
        "colab_type": "code",
        "colab": {
          "autoexec": {
            "startup": false,
            "wait_interval": 0
          }
        },
        "outputId": "f8733507-70dd-48dc-b1c9-41014cee92ed"
      },
      "cell_type": "code",
      "source": [
        "family['kids'].remove('lisa')\n",
        "family"
      ],
      "execution_count": 0,
      "outputs": [
        {
          "output_type": "execute_result",
          "data": {
            "text/plain": [
              "{'baby': 'maggie',\n",
              " 'grandpa': 'abe',\n",
              " 'kids': ['bart'],\n",
              " 'mom': 'marge',\n",
              " 'size': 6}"
            ]
          },
          "metadata": {
            "tags": []
          },
          "execution_count": 147
        }
      ]
    },
    {
      "metadata": {
        "id": "cghttyXUTSaC",
        "colab_type": "text"
      },
      "cell_type": "markdown",
      "source": [
        "**String substitution using a dictionary:**"
      ]
    },
    {
      "metadata": {
        "id": "awAgTMZTTSaC",
        "colab_type": "code",
        "colab": {
          "autoexec": {
            "startup": false,
            "wait_interval": 0
          }
        },
        "outputId": "2c6b3193-3513-4b7d-c768-00f4eb9128c7"
      },
      "cell_type": "code",
      "source": [
        "'youngest child is %(baby)s' % family"
      ],
      "execution_count": 0,
      "outputs": [
        {
          "output_type": "execute_result",
          "data": {
            "text/plain": [
              "'youngest child is maggie'"
            ]
          },
          "metadata": {
            "tags": []
          },
          "execution_count": 148
        }
      ]
    },
    {
      "metadata": {
        "id": "Fbs4dYGSTSaF",
        "colab_type": "text"
      },
      "cell_type": "markdown",
      "source": [
        "[<a href=\"#Python-Quick-Reference-by-Data-School\">Back to top</a>]"
      ]
    },
    {
      "metadata": {
        "id": "7WOlz3uOTSaF",
        "colab_type": "text"
      },
      "cell_type": "markdown",
      "source": [
        "## 10. Sets\n",
        "\n",
        "- **Set properties:** unordered, iterable, mutable, can contain multiple data types\n",
        "- Made of unique elements (strings, numbers, or tuples)\n",
        "- Like dictionaries, but with keys only (no values)"
      ]
    },
    {
      "metadata": {
        "id": "QktwrM9jTSaG",
        "colab_type": "code",
        "colab": {
          "autoexec": {
            "startup": false,
            "wait_interval": 0
          }
        }
      },
      "cell_type": "code",
      "source": [
        "# create an empty set\n",
        "empty_set = set()"
      ],
      "execution_count": 0,
      "outputs": []
    },
    {
      "metadata": {
        "id": "poPu3TJFTSaH",
        "colab_type": "code",
        "colab": {
          "autoexec": {
            "startup": false,
            "wait_interval": 0
          }
        }
      },
      "cell_type": "code",
      "source": [
        "# create a set directly\n",
        "languages = {'python', 'r', 'java'}"
      ],
      "execution_count": 0,
      "outputs": []
    },
    {
      "metadata": {
        "id": "awy7BV5JTSaI",
        "colab_type": "code",
        "colab": {
          "autoexec": {
            "startup": false,
            "wait_interval": 0
          }
        }
      },
      "cell_type": "code",
      "source": [
        "# create a set from a list\n",
        "snakes = set(['cobra', 'viper', 'python'])"
      ],
      "execution_count": 0,
      "outputs": []
    },
    {
      "metadata": {
        "id": "XILthk7cTSaJ",
        "colab_type": "text"
      },
      "cell_type": "markdown",
      "source": [
        "**Examine a set:**"
      ]
    },
    {
      "metadata": {
        "id": "Gnq_2v_GTSaJ",
        "colab_type": "code",
        "colab": {
          "autoexec": {
            "startup": false,
            "wait_interval": 0
          }
        },
        "outputId": "1e54424d-3383-459e-aa91-dde3dbad7494"
      },
      "cell_type": "code",
      "source": [
        "len(languages)"
      ],
      "execution_count": 0,
      "outputs": [
        {
          "output_type": "execute_result",
          "data": {
            "text/plain": [
              "3"
            ]
          },
          "metadata": {
            "tags": []
          },
          "execution_count": 152
        }
      ]
    },
    {
      "metadata": {
        "id": "l0S72tdKTSaM",
        "colab_type": "code",
        "colab": {
          "autoexec": {
            "startup": false,
            "wait_interval": 0
          }
        },
        "outputId": "237cba69-ac54-49c7-d99a-b46ae595f40f"
      },
      "cell_type": "code",
      "source": [
        "'python' in languages"
      ],
      "execution_count": 0,
      "outputs": [
        {
          "output_type": "execute_result",
          "data": {
            "text/plain": [
              "True"
            ]
          },
          "metadata": {
            "tags": []
          },
          "execution_count": 153
        }
      ]
    },
    {
      "metadata": {
        "id": "jslEEHCxTSaO",
        "colab_type": "text"
      },
      "cell_type": "markdown",
      "source": [
        "**Set operations:**"
      ]
    },
    {
      "metadata": {
        "id": "jzRDgsj7TSaP",
        "colab_type": "code",
        "colab": {
          "autoexec": {
            "startup": false,
            "wait_interval": 0
          }
        },
        "outputId": "db0e8223-cd32-4b79-ef2c-3af1c2337cd6"
      },
      "cell_type": "code",
      "source": [
        "# intersection\n",
        "languages & snakes"
      ],
      "execution_count": 0,
      "outputs": [
        {
          "output_type": "execute_result",
          "data": {
            "text/plain": [
              "{'python'}"
            ]
          },
          "metadata": {
            "tags": []
          },
          "execution_count": 154
        }
      ]
    },
    {
      "metadata": {
        "id": "-sZ6aWvOTSaQ",
        "colab_type": "code",
        "colab": {
          "autoexec": {
            "startup": false,
            "wait_interval": 0
          }
        },
        "outputId": "e878c51f-a7e0-4850-be5b-67ab7fd88bd4"
      },
      "cell_type": "code",
      "source": [
        "# union\n",
        "languages | snakes"
      ],
      "execution_count": 0,
      "outputs": [
        {
          "output_type": "execute_result",
          "data": {
            "text/plain": [
              "{'cobra', 'java', 'python', 'r', 'viper'}"
            ]
          },
          "metadata": {
            "tags": []
          },
          "execution_count": 155
        }
      ]
    },
    {
      "metadata": {
        "id": "_2kguZIqTSaS",
        "colab_type": "code",
        "colab": {
          "autoexec": {
            "startup": false,
            "wait_interval": 0
          }
        },
        "outputId": "3b537292-0051-4557-f43e-6bd7fc4719a8"
      },
      "cell_type": "code",
      "source": [
        "# set difference\n",
        "languages - snakes"
      ],
      "execution_count": 0,
      "outputs": [
        {
          "output_type": "execute_result",
          "data": {
            "text/plain": [
              "{'java', 'r'}"
            ]
          },
          "metadata": {
            "tags": []
          },
          "execution_count": 156
        }
      ]
    },
    {
      "metadata": {
        "id": "akK9IWEkTSaT",
        "colab_type": "code",
        "colab": {
          "autoexec": {
            "startup": false,
            "wait_interval": 0
          }
        },
        "outputId": "fb742112-826a-42ea-dca7-92024aa6d836"
      },
      "cell_type": "code",
      "source": [
        "# set difference\n",
        "snakes - languages"
      ],
      "execution_count": 0,
      "outputs": [
        {
          "output_type": "execute_result",
          "data": {
            "text/plain": [
              "{'cobra', 'viper'}"
            ]
          },
          "metadata": {
            "tags": []
          },
          "execution_count": 157
        }
      ]
    },
    {
      "metadata": {
        "id": "qZx-vc1kTSaV",
        "colab_type": "text"
      },
      "cell_type": "markdown",
      "source": [
        "**Modify a set (does not return the set):**"
      ]
    },
    {
      "metadata": {
        "id": "KjUtMlRbTSaV",
        "colab_type": "code",
        "colab": {
          "autoexec": {
            "startup": false,
            "wait_interval": 0
          }
        },
        "outputId": "92e92397-e4c0-4487-975e-7f639a7173ca"
      },
      "cell_type": "code",
      "source": [
        "# add a new element\n",
        "languages.add('sql')\n",
        "languages"
      ],
      "execution_count": 0,
      "outputs": [
        {
          "output_type": "execute_result",
          "data": {
            "text/plain": [
              "{'java', 'python', 'r', 'sql'}"
            ]
          },
          "metadata": {
            "tags": []
          },
          "execution_count": 158
        }
      ]
    },
    {
      "metadata": {
        "id": "cZ8fvKwgTSaX",
        "colab_type": "code",
        "colab": {
          "autoexec": {
            "startup": false,
            "wait_interval": 0
          }
        },
        "outputId": "a5bca63b-abad-4ac0-93d3-33974c0b0215"
      },
      "cell_type": "code",
      "source": [
        "# try to add an existing element (ignored, no error)\n",
        "languages.add('r')\n",
        "languages"
      ],
      "execution_count": 0,
      "outputs": [
        {
          "output_type": "execute_result",
          "data": {
            "text/plain": [
              "{'java', 'python', 'r', 'sql'}"
            ]
          },
          "metadata": {
            "tags": []
          },
          "execution_count": 159
        }
      ]
    },
    {
      "metadata": {
        "id": "XJ4aYYaZTSaY",
        "colab_type": "code",
        "colab": {
          "autoexec": {
            "startup": false,
            "wait_interval": 0
          }
        },
        "outputId": "77385fc6-8b22-42fa-ae09-7ae77f21ffb4"
      },
      "cell_type": "code",
      "source": [
        "# remove an element\n",
        "languages.remove('java')\n",
        "languages"
      ],
      "execution_count": 0,
      "outputs": [
        {
          "output_type": "execute_result",
          "data": {
            "text/plain": [
              "{'python', 'r', 'sql'}"
            ]
          },
          "metadata": {
            "tags": []
          },
          "execution_count": 160
        }
      ]
    },
    {
      "metadata": {
        "id": "BVULV2ZpTSaZ",
        "colab_type": "code",
        "colab": {
          "autoexec": {
            "startup": false,
            "wait_interval": 0
          }
        }
      },
      "cell_type": "code",
      "source": [
        "# try to remove a non-existing element (this would throw an error)\n",
        "# languages.remove('c')"
      ],
      "execution_count": 0,
      "outputs": []
    },
    {
      "metadata": {
        "id": "QjZParmzTSaa",
        "colab_type": "code",
        "colab": {
          "autoexec": {
            "startup": false,
            "wait_interval": 0
          }
        },
        "outputId": "4ee3b302-bfce-46df-a3d5-eb11c9d75ef3"
      },
      "cell_type": "code",
      "source": [
        "# remove an element if present, but ignored otherwise\n",
        "languages.discard('c')\n",
        "languages"
      ],
      "execution_count": 0,
      "outputs": [
        {
          "output_type": "execute_result",
          "data": {
            "text/plain": [
              "{'python', 'r', 'sql'}"
            ]
          },
          "metadata": {
            "tags": []
          },
          "execution_count": 162
        }
      ]
    },
    {
      "metadata": {
        "id": "rjJm0JuDTSac",
        "colab_type": "code",
        "colab": {
          "autoexec": {
            "startup": false,
            "wait_interval": 0
          }
        },
        "outputId": "27bbec65-e8af-4a9b-c11a-05c848c3e098"
      },
      "cell_type": "code",
      "source": [
        "# remove and return an arbitrary element\n",
        "languages.pop()"
      ],
      "execution_count": 0,
      "outputs": [
        {
          "output_type": "execute_result",
          "data": {
            "text/plain": [
              "'python'"
            ]
          },
          "metadata": {
            "tags": []
          },
          "execution_count": 163
        }
      ]
    },
    {
      "metadata": {
        "id": "BH9hXcGUTSad",
        "colab_type": "code",
        "colab": {
          "autoexec": {
            "startup": false,
            "wait_interval": 0
          }
        },
        "outputId": "22a656e7-f7b2-409c-98fa-369ef926683f"
      },
      "cell_type": "code",
      "source": [
        "# remove all elements\n",
        "languages.clear()\n",
        "languages"
      ],
      "execution_count": 0,
      "outputs": [
        {
          "output_type": "execute_result",
          "data": {
            "text/plain": [
              "set()"
            ]
          },
          "metadata": {
            "tags": []
          },
          "execution_count": 164
        }
      ]
    },
    {
      "metadata": {
        "id": "EShlxTMZTSae",
        "colab_type": "code",
        "colab": {
          "autoexec": {
            "startup": false,
            "wait_interval": 0
          }
        },
        "outputId": "e2883d8c-2465-4d9b-832d-ebec62566a6b"
      },
      "cell_type": "code",
      "source": [
        "# add multiple elements (can also pass a set)\n",
        "languages.update(['go', 'spark'])\n",
        "languages"
      ],
      "execution_count": 0,
      "outputs": [
        {
          "output_type": "execute_result",
          "data": {
            "text/plain": [
              "{'go', 'spark'}"
            ]
          },
          "metadata": {
            "tags": []
          },
          "execution_count": 165
        }
      ]
    },
    {
      "metadata": {
        "id": "Ad0SzCsETSag",
        "colab_type": "text"
      },
      "cell_type": "markdown",
      "source": [
        "**Get a sorted list of unique elements from a list:**"
      ]
    },
    {
      "metadata": {
        "id": "yRbD0di8TSag",
        "colab_type": "code",
        "colab": {
          "autoexec": {
            "startup": false,
            "wait_interval": 0
          }
        },
        "outputId": "1ade7b36-d988-4ba8-c309-076f8ceee5e8"
      },
      "cell_type": "code",
      "source": [
        "sorted(set([9, 0, 2, 1, 0]))"
      ],
      "execution_count": 0,
      "outputs": [
        {
          "output_type": "execute_result",
          "data": {
            "text/plain": [
              "[0, 1, 2, 9]"
            ]
          },
          "metadata": {
            "tags": []
          },
          "execution_count": 166
        }
      ]
    },
    {
      "metadata": {
        "id": "Y-vpGd8kTSai",
        "colab_type": "text"
      },
      "cell_type": "markdown",
      "source": [
        "[<a href=\"#Python-Quick-Reference-by-Data-School\">Back to top</a>]"
      ]
    },
    {
      "metadata": {
        "id": "078bn2KcTSai",
        "colab_type": "text"
      },
      "cell_type": "markdown",
      "source": [
        "## 11. ການປະກາດຟັງຊັ່ນ / Defining Functions"
      ]
    },
    {
      "metadata": {
        "id": "RD77kvW6TSai",
        "colab_type": "text"
      },
      "cell_type": "markdown",
      "source": [
        "**Define a function with no arguments and no return values:**"
      ]
    },
    {
      "metadata": {
        "id": "zc2AN7I7TSaj",
        "colab_type": "code",
        "colab": {
          "autoexec": {
            "startup": false,
            "wait_interval": 0
          }
        }
      },
      "cell_type": "code",
      "source": [
        "def print_text():\n",
        "    print('this is text')"
      ],
      "execution_count": 0,
      "outputs": []
    },
    {
      "metadata": {
        "id": "EZy7dvExTSak",
        "colab_type": "code",
        "colab": {
          "autoexec": {
            "startup": false,
            "wait_interval": 0
          }
        },
        "outputId": "bb20131e-e432-4365-8c31-87c3a3032df7"
      },
      "cell_type": "code",
      "source": [
        "# call the function\n",
        "print_text()"
      ],
      "execution_count": 0,
      "outputs": [
        {
          "output_type": "stream",
          "text": [
            "this is text\n"
          ],
          "name": "stdout"
        }
      ]
    },
    {
      "metadata": {
        "id": "4VjfyjXJTSal",
        "colab_type": "text"
      },
      "cell_type": "markdown",
      "source": [
        "**Define a function with one argument and no return values:**"
      ]
    },
    {
      "metadata": {
        "id": "356BuF2sTSal",
        "colab_type": "code",
        "colab": {
          "autoexec": {
            "startup": false,
            "wait_interval": 0
          }
        }
      },
      "cell_type": "code",
      "source": [
        "def print_this(x):\n",
        "    print(x)"
      ],
      "execution_count": 0,
      "outputs": []
    },
    {
      "metadata": {
        "id": "S4GdHItATSam",
        "colab_type": "code",
        "colab": {
          "autoexec": {
            "startup": false,
            "wait_interval": 0
          }
        },
        "outputId": "3fbf4d20-0985-4600-b829-3331a694cdce"
      },
      "cell_type": "code",
      "source": [
        "# call the function\n",
        "print_this(3)"
      ],
      "execution_count": 0,
      "outputs": [
        {
          "output_type": "stream",
          "text": [
            "3\n"
          ],
          "name": "stdout"
        }
      ]
    },
    {
      "metadata": {
        "id": "4i9BHisMTSan",
        "colab_type": "code",
        "colab": {
          "autoexec": {
            "startup": false,
            "wait_interval": 0
          }
        },
        "outputId": "1482de07-2302-44e9-ab4b-347103d0e94f"
      },
      "cell_type": "code",
      "source": [
        "# prints 3, but doesn't assign 3 to n because the function has no return statement\n",
        "n = print_this(3)"
      ],
      "execution_count": 0,
      "outputs": [
        {
          "output_type": "stream",
          "text": [
            "3\n"
          ],
          "name": "stdout"
        }
      ]
    },
    {
      "metadata": {
        "id": "GJ2CXVXVTSap",
        "colab_type": "text"
      },
      "cell_type": "markdown",
      "source": [
        "**Define a function with one argument and one return value:**"
      ]
    },
    {
      "metadata": {
        "id": "lxlQjPRWTSap",
        "colab_type": "code",
        "colab": {
          "autoexec": {
            "startup": false,
            "wait_interval": 0
          }
        }
      },
      "cell_type": "code",
      "source": [
        "def square_this(x):\n",
        "    return x**2"
      ],
      "execution_count": 0,
      "outputs": []
    },
    {
      "metadata": {
        "id": "UP3kqYMeTSaq",
        "colab_type": "code",
        "colab": {
          "autoexec": {
            "startup": false,
            "wait_interval": 0
          }
        }
      },
      "cell_type": "code",
      "source": [
        "# include an optional docstring to describe the effect of a function\n",
        "def square_this(x):\n",
        "    \"\"\"Return the square of a number.\"\"\"\n",
        "    return x**2"
      ],
      "execution_count": 0,
      "outputs": []
    },
    {
      "metadata": {
        "id": "duiMG1z_TSar",
        "colab_type": "code",
        "colab": {
          "autoexec": {
            "startup": false,
            "wait_interval": 0
          }
        },
        "outputId": "2c40aef0-11ab-47e5-9b19-31e5d5cbeba7"
      },
      "cell_type": "code",
      "source": [
        "# call the function\n",
        "square_this(3)"
      ],
      "execution_count": 0,
      "outputs": [
        {
          "output_type": "execute_result",
          "data": {
            "text/plain": [
              "9"
            ]
          },
          "metadata": {
            "tags": []
          },
          "execution_count": 174
        }
      ]
    },
    {
      "metadata": {
        "id": "jkfO0C2sTSas",
        "colab_type": "code",
        "colab": {
          "autoexec": {
            "startup": false,
            "wait_interval": 0
          }
        }
      },
      "cell_type": "code",
      "source": [
        "# assigns 9 to var, but does not print 9\n",
        "var = square_this(3)"
      ],
      "execution_count": 0,
      "outputs": []
    },
    {
      "metadata": {
        "id": "5vILGBQ8TSau",
        "colab_type": "text"
      },
      "cell_type": "markdown",
      "source": [
        "**ຂຽນຟັງຊັ່ນ ແລະກຳນົດເງື່ອນໄຂ / Define a function with two 'positional arguments' (no default values) and one 'keyword argument' (has a default value):**\n"
      ]
    },
    {
      "metadata": {
        "id": "lsE029jOTSau",
        "colab_type": "code",
        "colab": {
          "autoexec": {
            "startup": false,
            "wait_interval": 0
          }
        }
      },
      "cell_type": "code",
      "source": [
        "def calc(a, b, op='add'):\n",
        "    if op == 'add':\n",
        "        return a + b\n",
        "    elif op == 'sub':\n",
        "        return a - b\n",
        "    else:\n",
        "        print('valid operations are add and sub')"
      ],
      "execution_count": 0,
      "outputs": []
    },
    {
      "metadata": {
        "id": "RXtsCHhQTSav",
        "colab_type": "code",
        "colab": {
          "autoexec": {
            "startup": false,
            "wait_interval": 0
          }
        },
        "outputId": "ea289b9b-7cd0-4c82-f3ba-c784ff97ed6b"
      },
      "cell_type": "code",
      "source": [
        "# call the function\n",
        "calc(10, 4, op='add')"
      ],
      "execution_count": 0,
      "outputs": [
        {
          "output_type": "execute_result",
          "data": {
            "text/plain": [
              "14"
            ]
          },
          "metadata": {
            "tags": []
          },
          "execution_count": 177
        }
      ]
    },
    {
      "metadata": {
        "id": "3GcLScr0TSaw",
        "colab_type": "code",
        "colab": {
          "autoexec": {
            "startup": false,
            "wait_interval": 0
          }
        },
        "outputId": "426756d9-6895-44b5-986f-596ca74b6d7d"
      },
      "cell_type": "code",
      "source": [
        "# unnamed arguments are inferred by position\n",
        "calc(10, 4, 'add')"
      ],
      "execution_count": 0,
      "outputs": [
        {
          "output_type": "execute_result",
          "data": {
            "text/plain": [
              "14"
            ]
          },
          "metadata": {
            "tags": []
          },
          "execution_count": 178
        }
      ]
    },
    {
      "metadata": {
        "id": "YnxpgLf7TSax",
        "colab_type": "code",
        "colab": {
          "autoexec": {
            "startup": false,
            "wait_interval": 0
          }
        },
        "outputId": "4cb87237-debf-4df5-ed97-00a79e43e6d6"
      },
      "cell_type": "code",
      "source": [
        "# default for 'op' is 'add'\n",
        "calc(10, 4)"
      ],
      "execution_count": 0,
      "outputs": [
        {
          "output_type": "execute_result",
          "data": {
            "text/plain": [
              "14"
            ]
          },
          "metadata": {
            "tags": []
          },
          "execution_count": 179
        }
      ]
    },
    {
      "metadata": {
        "id": "h-ur9hdpTSa0",
        "colab_type": "code",
        "colab": {
          "autoexec": {
            "startup": false,
            "wait_interval": 0
          }
        },
        "outputId": "d0201e27-b822-42a9-a127-dc9dd5906119"
      },
      "cell_type": "code",
      "source": [
        "calc(10, 4, 'sub')"
      ],
      "execution_count": 0,
      "outputs": [
        {
          "output_type": "execute_result",
          "data": {
            "text/plain": [
              "6"
            ]
          },
          "metadata": {
            "tags": []
          },
          "execution_count": 180
        }
      ]
    },
    {
      "metadata": {
        "id": "dYgq5xjKTSa1",
        "colab_type": "code",
        "colab": {
          "autoexec": {
            "startup": false,
            "wait_interval": 0
          }
        },
        "outputId": "1630eeb4-916c-43a5-f9e9-d04ea2df35bc"
      },
      "cell_type": "code",
      "source": [
        "calc(10, 4, 'div')"
      ],
      "execution_count": 0,
      "outputs": [
        {
          "output_type": "stream",
          "text": [
            "valid operations are add and sub\n"
          ],
          "name": "stdout"
        }
      ]
    },
    {
      "metadata": {
        "id": "RzMNV7NsTSa2",
        "colab_type": "text"
      },
      "cell_type": "markdown",
      "source": [
        "**Use `pass` as a placeholder if you haven't written the function body:**"
      ]
    },
    {
      "metadata": {
        "id": "XePQqaURTSa2",
        "colab_type": "code",
        "colab": {
          "autoexec": {
            "startup": false,
            "wait_interval": 0
          }
        }
      },
      "cell_type": "code",
      "source": [
        "def stub():\n",
        "    pass"
      ],
      "execution_count": 0,
      "outputs": []
    },
    {
      "metadata": {
        "id": "vRz8TeXVTSa3",
        "colab_type": "text"
      },
      "cell_type": "markdown",
      "source": [
        "**Return two values from a single function:**"
      ]
    },
    {
      "metadata": {
        "id": "mXLoiqfyTSa3",
        "colab_type": "code",
        "colab": {
          "autoexec": {
            "startup": false,
            "wait_interval": 0
          }
        }
      },
      "cell_type": "code",
      "source": [
        "def min_max(nums):\n",
        "    return min(nums), max(nums)"
      ],
      "execution_count": 0,
      "outputs": []
    },
    {
      "metadata": {
        "id": "ly8tggThTSa4",
        "colab_type": "code",
        "colab": {
          "autoexec": {
            "startup": false,
            "wait_interval": 0
          }
        },
        "outputId": "831c5eb4-4b5d-410b-d5de-a28057b16777"
      },
      "cell_type": "code",
      "source": [
        "# return values can be assigned to a single variable as a tuple\n",
        "nums = [1, 2, 3]\n",
        "min_max_num = min_max(nums)\n",
        "min_max_num"
      ],
      "execution_count": 0,
      "outputs": [
        {
          "output_type": "execute_result",
          "data": {
            "text/plain": [
              "(1, 3)"
            ]
          },
          "metadata": {
            "tags": []
          },
          "execution_count": 184
        }
      ]
    },
    {
      "metadata": {
        "id": "N9UM0K-uTSa5",
        "colab_type": "code",
        "colab": {
          "autoexec": {
            "startup": false,
            "wait_interval": 0
          }
        },
        "outputId": "8c5b92a7-db58-49e8-9584-ea49a5e49db1"
      },
      "cell_type": "code",
      "source": [
        "# return values can be assigned into multiple variables using tuple unpacking\n",
        "min_num, max_num = min_max(nums)\n",
        "print(min_num)\n",
        "print(max_num)"
      ],
      "execution_count": 0,
      "outputs": [
        {
          "output_type": "stream",
          "text": [
            "1\n",
            "3\n"
          ],
          "name": "stdout"
        }
      ]
    },
    {
      "metadata": {
        "id": "TGUgtJuATSa8",
        "colab_type": "text"
      },
      "cell_type": "markdown",
      "source": [
        "[<a href=\"#Python-Quick-Reference-by-Data-School\">Back to top</a>]"
      ]
    },
    {
      "metadata": {
        "id": "Q6pXKLE-TSa8",
        "colab_type": "text"
      },
      "cell_type": "markdown",
      "source": [
        "## 12. Anonymous (Lambda) Functions\n",
        "\n",
        "- Primarily used to temporarily define a function for use by another function"
      ]
    },
    {
      "metadata": {
        "id": "dV-yOs96TSa8",
        "colab_type": "code",
        "colab": {
          "autoexec": {
            "startup": false,
            "wait_interval": 0
          }
        }
      },
      "cell_type": "code",
      "source": [
        "#ການປະກາດຟັງຊັ່ນແບບທົ່ວໄປ/define a function the \"usual\" way\n",
        "def squared(x):\n",
        "    return x**2"
      ],
      "execution_count": 0,
      "outputs": []
    },
    {
      "metadata": {
        "id": "YqxFZqWzTSa8",
        "colab_type": "code",
        "colab": {
          "autoexec": {
            "startup": false,
            "wait_interval": 0
          }
        }
      },
      "cell_type": "code",
      "source": [
        "# ປະກາດໂຕແປແບບ ລັມດາ / define an identical function using lambda\n",
        "squared = lambda x: x**2"
      ],
      "execution_count": 0,
      "outputs": []
    },
    {
      "metadata": {
        "id": "g91DCjJ2TSa-",
        "colab_type": "text"
      },
      "cell_type": "markdown",
      "source": [
        "** ໂຕຢ່າງການຈັດລຽງ ສະມາຊິກ ໃຫ້ລຽງຕາມໂຕອັກສອນທ້າຍສຸດ(word[-1]) / Sort a list of strings by the last letter:**"
      ]
    },
    {
      "metadata": {
        "id": "11Cy9pZaTSa-",
        "colab_type": "code",
        "colab": {
          "autoexec": {
            "startup": false,
            "wait_interval": 0
          },
          "base_uri": "https://localhost:8080/",
          "height": 34
        },
        "outputId": "49758c80-decc-4525-9dc2-77e7b021034b",
        "executionInfo": {
          "status": "ok",
          "timestamp": 1526753412876,
          "user_tz": -420,
          "elapsed": 983,
          "user": {
            "displayName": "Outhai SAIOUDOM",
            "photoUrl": "//lh5.googleusercontent.com/-v5oasHENJGw/AAAAAAAAAAI/AAAAAAAAisk/iv-oY523D3o/s50-c-k-no/photo.jpg",
            "userId": "117242230221113736584"
          }
        }
      },
      "cell_type": "code",
      "source": [
        "#ການປະກາດຟັງຊັ່ນແບບທົ່ວໄປ/ without using lambda\n",
        "simpsons = ['homer', 'marge', 'bart']\n",
        "def last_letter(word):\n",
        "    return word[-1]\n",
        "sorted(simpsons, key=last_letter)"
      ],
      "execution_count": 2,
      "outputs": [
        {
          "output_type": "execute_result",
          "data": {
            "text/plain": [
              "['marge', 'homer', 'bart']"
            ]
          },
          "metadata": {
            "tags": []
          },
          "execution_count": 2
        }
      ]
    },
    {
      "metadata": {
        "id": "aVgaQpubTSa_",
        "colab_type": "code",
        "colab": {
          "autoexec": {
            "startup": false,
            "wait_interval": 0
          },
          "base_uri": "https://localhost:8080/",
          "height": 34
        },
        "outputId": "a8b3bc3d-3e29-4275-955a-f13c05ed5a9e",
        "executionInfo": {
          "status": "ok",
          "timestamp": 1526753552352,
          "user_tz": -420,
          "elapsed": 1069,
          "user": {
            "displayName": "Outhai SAIOUDOM",
            "photoUrl": "//lh5.googleusercontent.com/-v5oasHENJGw/AAAAAAAAAAI/AAAAAAAAisk/iv-oY523D3o/s50-c-k-no/photo.jpg",
            "userId": "117242230221113736584"
          }
        }
      },
      "cell_type": "code",
      "source": [
        "# using lambda\n",
        "sorted(simpsons, key=lambda word: word[-1])"
      ],
      "execution_count": 11,
      "outputs": [
        {
          "output_type": "execute_result",
          "data": {
            "text/plain": [
              "['marge', 'homer', 'bart']"
            ]
          },
          "metadata": {
            "tags": []
          },
          "execution_count": 11
        }
      ]
    },
    {
      "metadata": {
        "id": "r0Yq39wWTSbA",
        "colab_type": "text"
      },
      "cell_type": "markdown",
      "source": [
        "[<a href=\"#Python-Quick-Reference-by-Data-School\">Back to top</a>]"
      ]
    },
    {
      "metadata": {
        "id": "Ri37DgfcTSbA",
        "colab_type": "text"
      },
      "cell_type": "markdown",
      "source": [
        "## 13. ການເຮັຊໍ້າ / For Loops and While Loops"
      ]
    },
    {
      "metadata": {
        "id": "W_Ir9qEZTSbA",
        "colab_type": "text"
      },
      "cell_type": "markdown",
      "source": [
        "**`range` returns a list of integers (Python 2) or a sequence (Python 3):**"
      ]
    },
    {
      "metadata": {
        "id": "VrHY72r3TSbB",
        "colab_type": "code",
        "colab": {
          "autoexec": {
            "startup": false,
            "wait_interval": 0
          }
        },
        "outputId": "1c024c57-4dd9-45b9-ee60-8cfe8f3d4f84"
      },
      "cell_type": "code",
      "source": [
        "# includes the start value but excludes the stop value\n",
        "range(0, 3)"
      ],
      "execution_count": 0,
      "outputs": [
        {
          "output_type": "execute_result",
          "data": {
            "text/plain": [
              "[0, 1, 2]"
            ]
          },
          "metadata": {
            "tags": []
          },
          "execution_count": 190
        }
      ]
    },
    {
      "metadata": {
        "id": "VkryWjxPTSbC",
        "colab_type": "code",
        "colab": {
          "autoexec": {
            "startup": false,
            "wait_interval": 0
          }
        },
        "outputId": "5753c232-01eb-49d1-fa73-643b08031504"
      },
      "cell_type": "code",
      "source": [
        "# default start value is 0\n",
        "range(3)"
      ],
      "execution_count": 0,
      "outputs": [
        {
          "output_type": "execute_result",
          "data": {
            "text/plain": [
              "[0, 1, 2]"
            ]
          },
          "metadata": {
            "tags": []
          },
          "execution_count": 191
        }
      ]
    },
    {
      "metadata": {
        "id": "ft7xZr-BTSbD",
        "colab_type": "code",
        "colab": {
          "autoexec": {
            "startup": false,
            "wait_interval": 0
          }
        },
        "outputId": "e62e15a6-93eb-4b9f-f07c-4f667fa74560"
      },
      "cell_type": "code",
      "source": [
        "# third argument is the step value\n",
        "range(0, 5, 2)"
      ],
      "execution_count": 0,
      "outputs": [
        {
          "output_type": "execute_result",
          "data": {
            "text/plain": [
              "[0, 2, 4]"
            ]
          },
          "metadata": {
            "tags": []
          },
          "execution_count": 192
        }
      ]
    },
    {
      "metadata": {
        "id": "uQG4RFaUTSbE",
        "colab_type": "code",
        "colab": {
          "autoexec": {
            "startup": false,
            "wait_interval": 0
          },
          "base_uri": "https://localhost:8080/",
          "height": 34
        },
        "outputId": "01b12e76-c61c-4c58-bfca-7440478f5cee",
        "executionInfo": {
          "status": "ok",
          "timestamp": 1526754044793,
          "user_tz": -420,
          "elapsed": 1327,
          "user": {
            "displayName": "Outhai SAIOUDOM",
            "photoUrl": "//lh5.googleusercontent.com/-v5oasHENJGw/AAAAAAAAAAI/AAAAAAAAisk/iv-oY523D3o/s50-c-k-no/photo.jpg",
            "userId": "117242230221113736584"
          }
        }
      },
      "cell_type": "code",
      "source": [
        "# Python 2 only: use xrange to create a sequence rather than a list (saves memory)\n",
        "xrange(100, 100000, 5)"
      ],
      "execution_count": 12,
      "outputs": [
        {
          "output_type": "execute_result",
          "data": {
            "text/plain": [
              "xrange(100, 100000, 5)"
            ]
          },
          "metadata": {
            "tags": []
          },
          "execution_count": 12
        }
      ]
    },
    {
      "metadata": {
        "id": "7u2Y405nokU4",
        "colab_type": "code",
        "colab": {
          "autoexec": {
            "startup": false,
            "wait_interval": 0
          },
          "base_uri": "https://localhost:8080/",
          "height": 34
        },
        "outputId": "ef49885e-44d4-49cc-de11-fbcbd247debe",
        "executionInfo": {
          "status": "ok",
          "timestamp": 1526754075458,
          "user_tz": -420,
          "elapsed": 1028,
          "user": {
            "displayName": "Outhai SAIOUDOM",
            "photoUrl": "//lh5.googleusercontent.com/-v5oasHENJGw/AAAAAAAAAAI/AAAAAAAAisk/iv-oY523D3o/s50-c-k-no/photo.jpg",
            "userId": "117242230221113736584"
          }
        }
      },
      "cell_type": "code",
      "source": [
        "#xrange ແມ່ນປະເພດຂໍ້ມູນ ສຳລັບ Python 2 ຄືກັບ List \n",
        "print([i for i in xrange(10)])"
      ],
      "execution_count": 13,
      "outputs": [
        {
          "output_type": "stream",
          "text": [
            "[0, 1, 2, 3, 4, 5, 6, 7, 8, 9]\n"
          ],
          "name": "stdout"
        }
      ]
    },
    {
      "metadata": {
        "id": "CJQ24-UmTSbG",
        "colab_type": "text"
      },
      "cell_type": "markdown",
      "source": [
        "**`for` loops:**"
      ]
    },
    {
      "metadata": {
        "id": "sTnVhLVuTSbG",
        "colab_type": "code",
        "colab": {
          "autoexec": {
            "startup": false,
            "wait_interval": 0
          }
        },
        "outputId": "c9c527c2-5c2a-4245-99cb-6722fed66365"
      },
      "cell_type": "code",
      "source": [
        "# not the recommended style\n",
        "fruits = ['apple', 'banana', 'cherry']\n",
        "for i in range(len(fruits)):\n",
        "    print(fruits[i].upper())"
      ],
      "execution_count": 0,
      "outputs": [
        {
          "output_type": "stream",
          "text": [
            "APPLE\n",
            "BANANA\n",
            "CHERRY\n"
          ],
          "name": "stdout"
        }
      ]
    },
    {
      "metadata": {
        "id": "2XMAe3y6TSbH",
        "colab_type": "code",
        "colab": {
          "autoexec": {
            "startup": false,
            "wait_interval": 0
          }
        },
        "outputId": "93dcb5a7-14e3-4cf1-c773-c3e987ec41e9"
      },
      "cell_type": "code",
      "source": [
        "# recommended style\n",
        "for fruit in fruits:\n",
        "    print(fruit.upper())"
      ],
      "execution_count": 0,
      "outputs": [
        {
          "output_type": "stream",
          "text": [
            "APPLE\n",
            "BANANA\n",
            "CHERRY\n"
          ],
          "name": "stdout"
        }
      ]
    },
    {
      "metadata": {
        "id": "OcsSkzyJTSbI",
        "colab_type": "code",
        "colab": {
          "autoexec": {
            "startup": false,
            "wait_interval": 0
          }
        },
        "outputId": "43ce66ea-e8b6-4364-b673-0bb66f5c14c5"
      },
      "cell_type": "code",
      "source": [
        "# iterate through two things at once (using tuple unpacking)\n",
        "family = {'dad':'homer', 'mom':'marge', 'size':6}\n",
        "for key, value in family.items():\n",
        "    print(key, value)"
      ],
      "execution_count": 0,
      "outputs": [
        {
          "output_type": "stream",
          "text": [
            "('dad', 'homer')\n",
            "('mom', 'marge')\n",
            "('size', 6)\n"
          ],
          "name": "stdout"
        }
      ]
    },
    {
      "metadata": {
        "id": "u9sMNxe1TSbK",
        "colab_type": "code",
        "colab": {
          "autoexec": {
            "startup": false,
            "wait_interval": 0
          }
        },
        "outputId": "79d8fa13-b961-4e19-cbf8-a137545b6236"
      },
      "cell_type": "code",
      "source": [
        "# use enumerate if you need to access the index value within the loop\n",
        "for index, fruit in enumerate(fruits):\n",
        "    print(index, fruit)"
      ],
      "execution_count": 0,
      "outputs": [
        {
          "output_type": "stream",
          "text": [
            "(0, 'apple')\n",
            "(1, 'banana')\n",
            "(2, 'cherry')\n"
          ],
          "name": "stdout"
        }
      ]
    },
    {
      "metadata": {
        "id": "lnnUZXe8TSbL",
        "colab_type": "text"
      },
      "cell_type": "markdown",
      "source": [
        "**`for`/`else` loop:**"
      ]
    },
    {
      "metadata": {
        "id": "9I2tTktaTSbL",
        "colab_type": "code",
        "colab": {
          "autoexec": {
            "startup": false,
            "wait_interval": 0
          }
        },
        "outputId": "c6448121-1f03-41ad-b041-2a993efcc58d"
      },
      "cell_type": "code",
      "source": [
        "for fruit in fruits:\n",
        "    if fruit == 'banana':\n",
        "        print('Found the banana!')\n",
        "        break    # exit the loop and skip the 'else' block\n",
        "else:\n",
        "    # this block executes ONLY if the for loop completes without hitting 'break'\n",
        "    print(\"Can't find the banana\")"
      ],
      "execution_count": 0,
      "outputs": [
        {
          "output_type": "stream",
          "text": [
            "Found the banana!\n"
          ],
          "name": "stdout"
        }
      ]
    },
    {
      "metadata": {
        "id": "HpCH7qHKTSbM",
        "colab_type": "text"
      },
      "cell_type": "markdown",
      "source": [
        "**`while` loop:**"
      ]
    },
    {
      "metadata": {
        "id": "oNvPBCaPTSbN",
        "colab_type": "code",
        "colab": {
          "autoexec": {
            "startup": false,
            "wait_interval": 0
          }
        },
        "outputId": "ce1fed51-3ef0-47b8-c0ef-ac797693fca2"
      },
      "cell_type": "code",
      "source": [
        "count = 0\n",
        "while count < 5:\n",
        "    print('This will print 5 times')\n",
        "    count += 1    # equivalent to 'count = count + 1'"
      ],
      "execution_count": 0,
      "outputs": [
        {
          "output_type": "stream",
          "text": [
            "This will print 5 times\n",
            "This will print 5 times\n",
            "This will print 5 times\n",
            "This will print 5 times\n",
            "This will print 5 times\n"
          ],
          "name": "stdout"
        }
      ]
    },
    {
      "metadata": {
        "id": "ucvx9nrjTSbY",
        "colab_type": "text"
      },
      "cell_type": "markdown",
      "source": [
        "[<a href=\"#Python-Quick-Reference-by-Data-School\">Back to top</a>]"
      ]
    },
    {
      "metadata": {
        "id": "AQ1WHnajTSbY",
        "colab_type": "text"
      },
      "cell_type": "markdown",
      "source": [
        "## 14. ຂຽນຟັງຊັນແບບ ຄັດຈ້ອນ / Comprehensions"
      ]
    },
    {
      "metadata": {
        "id": "yaW5O5HDTSbY",
        "colab_type": "text"
      },
      "cell_type": "markdown",
      "source": [
        "**List comprehension:**"
      ]
    },
    {
      "metadata": {
        "id": "aorPanRmTSbZ",
        "colab_type": "code",
        "colab": {
          "autoexec": {
            "startup": false,
            "wait_interval": 0
          },
          "base_uri": "https://localhost:8080/",
          "height": 34
        },
        "outputId": "fb238483-4880-4f7a-b384-d05ddf905011",
        "executionInfo": {
          "status": "ok",
          "timestamp": 1526715011185,
          "user_tz": -420,
          "elapsed": 1374,
          "user": {
            "displayName": "Outhai SAIOUDOM",
            "photoUrl": "//lh5.googleusercontent.com/-v5oasHENJGw/AAAAAAAAAAI/AAAAAAAAisk/iv-oY523D3o/s50-c-k-no/photo.jpg",
            "userId": "117242230221113736584"
          }
        }
      },
      "cell_type": "code",
      "source": [
        "# for loop to create a list of cubes\n",
        "nums = [1, 2, 3, 4, 5]\n",
        "cubes = []\n",
        "for num in nums:\n",
        "    cubes.append(num**3)\n",
        "cubes"
      ],
      "execution_count": 3,
      "outputs": [
        {
          "output_type": "execute_result",
          "data": {
            "text/plain": [
              "[1, 8, 27, 64, 125]"
            ]
          },
          "metadata": {
            "tags": []
          },
          "execution_count": 3
        }
      ]
    },
    {
      "metadata": {
        "id": "3iZ5k_8CTSba",
        "colab_type": "code",
        "colab": {
          "autoexec": {
            "startup": false,
            "wait_interval": 0
          }
        },
        "outputId": "6a8c5019-e502-40e1-8d87-ff6d3151f62b"
      },
      "cell_type": "code",
      "source": [
        "# equivalent list comprehension\n",
        "cubes = [num**3 for num in nums]\n",
        "cubes"
      ],
      "execution_count": 0,
      "outputs": [
        {
          "output_type": "execute_result",
          "data": {
            "text/plain": [
              "[1, 8, 27, 64, 125]"
            ]
          },
          "metadata": {
            "tags": []
          },
          "execution_count": 201
        }
      ]
    },
    {
      "metadata": {
        "id": "GjIHiDPMTSbc",
        "colab_type": "code",
        "colab": {
          "autoexec": {
            "startup": false,
            "wait_interval": 0
          }
        },
        "outputId": "08236866-0f9c-4682-9b7c-577494069e19"
      },
      "cell_type": "code",
      "source": [
        "# for loop to create a list of cubes of even numbers\n",
        "cubes_of_even = []\n",
        "for num in nums:\n",
        "    if num % 2 == 0:\n",
        "        cubes_of_even.append(num**3)\n",
        "cubes_of_even"
      ],
      "execution_count": 0,
      "outputs": [
        {
          "output_type": "execute_result",
          "data": {
            "text/plain": [
              "[8, 64]"
            ]
          },
          "metadata": {
            "tags": []
          },
          "execution_count": 202
        }
      ]
    },
    {
      "metadata": {
        "id": "GP2tPlbVTSbe",
        "colab_type": "code",
        "colab": {
          "autoexec": {
            "startup": false,
            "wait_interval": 0
          }
        },
        "outputId": "b1fb6168-c887-469b-c980-c2a67cebd9a5"
      },
      "cell_type": "code",
      "source": [
        "# equivalent list comprehension\n",
        "# syntax: [expression for variable in iterable if condition]\n",
        "cubes_of_even = [num**3 for num in nums if num % 2 == 0]\n",
        "cubes_of_even"
      ],
      "execution_count": 0,
      "outputs": [
        {
          "output_type": "execute_result",
          "data": {
            "text/plain": [
              "[8, 64]"
            ]
          },
          "metadata": {
            "tags": []
          },
          "execution_count": 203
        }
      ]
    },
    {
      "metadata": {
        "id": "30hhK1BwTSbf",
        "colab_type": "code",
        "colab": {
          "autoexec": {
            "startup": false,
            "wait_interval": 0
          }
        },
        "outputId": "79bb235c-53dd-42fc-c1db-faccd4ed579f"
      },
      "cell_type": "code",
      "source": [
        "# for loop to cube even numbers and square odd numbers\n",
        "cubes_and_squares = []\n",
        "for num in nums:\n",
        "    if num % 2 == 0:\n",
        "        cubes_and_squares.append(num**3)\n",
        "    else:\n",
        "        cubes_and_squares.append(num**2)\n",
        "cubes_and_squares"
      ],
      "execution_count": 0,
      "outputs": [
        {
          "output_type": "execute_result",
          "data": {
            "text/plain": [
              "[1, 8, 9, 64, 25]"
            ]
          },
          "metadata": {
            "tags": []
          },
          "execution_count": 204
        }
      ]
    },
    {
      "metadata": {
        "id": "UC2uuyZ5TSbg",
        "colab_type": "code",
        "colab": {
          "autoexec": {
            "startup": false,
            "wait_interval": 0
          }
        },
        "outputId": "ade7a853-092e-4f6b-d138-0c3d5499dcd8"
      },
      "cell_type": "code",
      "source": [
        "# equivalent list comprehension (using a ternary expression)\n",
        "# syntax: [true_condition if condition else false_condition for variable in iterable]\n",
        "cubes_and_squares = [num**3 if num % 2 == 0 else num**2 for num in nums]\n",
        "cubes_and_squares"
      ],
      "execution_count": 0,
      "outputs": [
        {
          "output_type": "execute_result",
          "data": {
            "text/plain": [
              "[1, 8, 9, 64, 25]"
            ]
          },
          "metadata": {
            "tags": []
          },
          "execution_count": 205
        }
      ]
    },
    {
      "metadata": {
        "id": "7-3Jh--XTSbi",
        "colab_type": "code",
        "colab": {
          "autoexec": {
            "startup": false,
            "wait_interval": 0
          }
        },
        "outputId": "c2f5d556-30e7-45b0-8a78-2b8c8e73cd2f"
      },
      "cell_type": "code",
      "source": [
        "# for loop to flatten a 2d-matrix\n",
        "matrix = [[1, 2], [3, 4]]\n",
        "items = []\n",
        "for row in matrix:\n",
        "    for item in row:\n",
        "        items.append(item)\n",
        "items"
      ],
      "execution_count": 0,
      "outputs": [
        {
          "output_type": "execute_result",
          "data": {
            "text/plain": [
              "[1, 2, 3, 4]"
            ]
          },
          "metadata": {
            "tags": []
          },
          "execution_count": 206
        }
      ]
    },
    {
      "metadata": {
        "id": "mN017UInTSbi",
        "colab_type": "code",
        "colab": {
          "autoexec": {
            "startup": false,
            "wait_interval": 0
          }
        },
        "outputId": "765c992c-8f3e-4f62-8f13-f6f7676a6e73"
      },
      "cell_type": "code",
      "source": [
        "# equivalent list comprehension\n",
        "items = [item for row in matrix\n",
        "              for item in row]\n",
        "items"
      ],
      "execution_count": 0,
      "outputs": [
        {
          "output_type": "execute_result",
          "data": {
            "text/plain": [
              "[1, 2, 3, 4]"
            ]
          },
          "metadata": {
            "tags": []
          },
          "execution_count": 207
        }
      ]
    },
    {
      "metadata": {
        "id": "1mkoIk2YTSbk",
        "colab_type": "text"
      },
      "cell_type": "markdown",
      "source": [
        "**Set comprehension:**"
      ]
    },
    {
      "metadata": {
        "id": "zGLnkO1TTSbk",
        "colab_type": "code",
        "colab": {
          "autoexec": {
            "startup": false,
            "wait_interval": 0
          }
        },
        "outputId": "1d038948-10e4-43b9-baf5-d26d960744ff"
      },
      "cell_type": "code",
      "source": [
        "fruits = ['apple', 'banana', 'cherry']\n",
        "unique_lengths = {len(fruit) for fruit in fruits}\n",
        "unique_lengths"
      ],
      "execution_count": 0,
      "outputs": [
        {
          "output_type": "execute_result",
          "data": {
            "text/plain": [
              "{5, 6}"
            ]
          },
          "metadata": {
            "tags": []
          },
          "execution_count": 208
        }
      ]
    },
    {
      "metadata": {
        "id": "9qfafa7RTSbm",
        "colab_type": "text"
      },
      "cell_type": "markdown",
      "source": [
        "**Dictionary comprehension:**"
      ]
    },
    {
      "metadata": {
        "id": "9X6USGY5TSbm",
        "colab_type": "code",
        "colab": {
          "autoexec": {
            "startup": false,
            "wait_interval": 0
          }
        },
        "outputId": "8712e382-c09f-43e0-ced6-e93e31909cac"
      },
      "cell_type": "code",
      "source": [
        "fruit_lengths = {fruit:len(fruit) for fruit in fruits}\n",
        "fruit_lengths"
      ],
      "execution_count": 0,
      "outputs": [
        {
          "output_type": "execute_result",
          "data": {
            "text/plain": [
              "{'apple': 5, 'banana': 6, 'cherry': 6}"
            ]
          },
          "metadata": {
            "tags": []
          },
          "execution_count": 209
        }
      ]
    },
    {
      "metadata": {
        "id": "LF-eIJ_JTSbn",
        "colab_type": "code",
        "colab": {
          "autoexec": {
            "startup": false,
            "wait_interval": 0
          }
        },
        "outputId": "560af1c6-874e-45c6-93ba-cda940215e2f"
      },
      "cell_type": "code",
      "source": [
        "fruit_indices = {fruit:index for index, fruit in enumerate(fruits)}\n",
        "fruit_indices"
      ],
      "execution_count": 0,
      "outputs": [
        {
          "output_type": "execute_result",
          "data": {
            "text/plain": [
              "{'apple': 0, 'banana': 1, 'cherry': 2}"
            ]
          },
          "metadata": {
            "tags": []
          },
          "execution_count": 210
        }
      ]
    },
    {
      "metadata": {
        "id": "8Ze6coJeTSbo",
        "colab_type": "text"
      },
      "cell_type": "markdown",
      "source": [
        "[<a href=\"#Python-Quick-Reference-by-Data-School\">Back to top</a>]"
      ]
    },
    {
      "metadata": {
        "id": "HO1Hskx3TSbp",
        "colab_type": "text"
      },
      "cell_type": "markdown",
      "source": [
        "## 15. Map and Filter"
      ]
    },
    {
      "metadata": {
        "id": "D0J5YftrTSbp",
        "colab_type": "text"
      },
      "cell_type": "markdown",
      "source": [
        "**`map` applies a function to every element of a sequence and returns a list (Python 2) or iterator (Python 3):**"
      ]
    },
    {
      "metadata": {
        "id": "3XA7uh3VTSbp",
        "colab_type": "code",
        "colab": {
          "autoexec": {
            "startup": false,
            "wait_interval": 0
          },
          "base_uri": "https://localhost:8080/",
          "height": 34
        },
        "outputId": "90271927-ab08-4947-92b3-32d4baa5bdb8",
        "executionInfo": {
          "status": "ok",
          "timestamp": 1526715070572,
          "user_tz": -420,
          "elapsed": 1250,
          "user": {
            "displayName": "Outhai SAIOUDOM",
            "photoUrl": "//lh5.googleusercontent.com/-v5oasHENJGw/AAAAAAAAAAI/AAAAAAAAisk/iv-oY523D3o/s50-c-k-no/photo.jpg",
            "userId": "117242230221113736584"
          }
        }
      },
      "cell_type": "code",
      "source": [
        "simpsons = ['homer', 'marge', 'bart']\n",
        "map(len, simpsons)"
      ],
      "execution_count": 4,
      "outputs": [
        {
          "output_type": "execute_result",
          "data": {
            "text/plain": [
              "[5, 5, 4]"
            ]
          },
          "metadata": {
            "tags": []
          },
          "execution_count": 4
        }
      ]
    },
    {
      "metadata": {
        "id": "T-_6TwXlTSbr",
        "colab_type": "code",
        "colab": {
          "autoexec": {
            "startup": false,
            "wait_interval": 0
          },
          "base_uri": "https://localhost:8080/",
          "height": 34
        },
        "outputId": "7bad2f66-40db-4afd-8103-35a68b49f49b",
        "executionInfo": {
          "status": "ok",
          "timestamp": 1526715074446,
          "user_tz": -420,
          "elapsed": 1138,
          "user": {
            "displayName": "Outhai SAIOUDOM",
            "photoUrl": "//lh5.googleusercontent.com/-v5oasHENJGw/AAAAAAAAAAI/AAAAAAAAisk/iv-oY523D3o/s50-c-k-no/photo.jpg",
            "userId": "117242230221113736584"
          }
        }
      },
      "cell_type": "code",
      "source": [
        "# equivalent list comprehension\n",
        "[len(word) for word in simpsons]"
      ],
      "execution_count": 5,
      "outputs": [
        {
          "output_type": "execute_result",
          "data": {
            "text/plain": [
              "[5, 5, 4]"
            ]
          },
          "metadata": {
            "tags": []
          },
          "execution_count": 5
        }
      ]
    },
    {
      "metadata": {
        "id": "uuLH7u9HTSbt",
        "colab_type": "code",
        "colab": {
          "autoexec": {
            "startup": false,
            "wait_interval": 0
          }
        },
        "outputId": "ec70b78c-a919-470f-f8c2-b47fbbdc97de"
      },
      "cell_type": "code",
      "source": [
        "map(lambda word: word[-1], simpsons)"
      ],
      "execution_count": 0,
      "outputs": [
        {
          "output_type": "execute_result",
          "data": {
            "text/plain": [
              "['r', 'e', 't']"
            ]
          },
          "metadata": {
            "tags": []
          },
          "execution_count": 213
        }
      ]
    },
    {
      "metadata": {
        "id": "ivaMXXlXTSbt",
        "colab_type": "code",
        "colab": {
          "autoexec": {
            "startup": false,
            "wait_interval": 0
          }
        },
        "outputId": "4170e338-9816-4759-8fc4-668aa7569541"
      },
      "cell_type": "code",
      "source": [
        "# equivalent list comprehension\n",
        "[word[-1] for word in simpsons]"
      ],
      "execution_count": 0,
      "outputs": [
        {
          "output_type": "execute_result",
          "data": {
            "text/plain": [
              "['r', 'e', 't']"
            ]
          },
          "metadata": {
            "tags": []
          },
          "execution_count": 214
        }
      ]
    },
    {
      "metadata": {
        "id": "gqDpHplFTSbv",
        "colab_type": "text"
      },
      "cell_type": "markdown",
      "source": [
        "**`filter` returns a list (Python 2) or iterator (Python 3) containing the elements from a sequence for which a condition is `True`:**"
      ]
    },
    {
      "metadata": {
        "id": "ILOeIv2ITSbv",
        "colab_type": "code",
        "colab": {
          "autoexec": {
            "startup": false,
            "wait_interval": 0
          }
        },
        "outputId": "3a73f8fc-04f6-4883-ad3b-69a4a1327bb1"
      },
      "cell_type": "code",
      "source": [
        "nums = range(5)\n",
        "filter(lambda x: x % 2 == 0, nums)"
      ],
      "execution_count": 0,
      "outputs": [
        {
          "output_type": "execute_result",
          "data": {
            "text/plain": [
              "[0, 2, 4]"
            ]
          },
          "metadata": {
            "tags": []
          },
          "execution_count": 215
        }
      ]
    },
    {
      "metadata": {
        "id": "6ZvieMK8TSbx",
        "colab_type": "code",
        "colab": {
          "autoexec": {
            "startup": false,
            "wait_interval": 0
          }
        },
        "outputId": "1eb55480-649b-4a39-b45f-ebcdf2c643d8"
      },
      "cell_type": "code",
      "source": [
        "# equivalent list comprehension\n",
        "[num for num in nums if num % 2 == 0]"
      ],
      "execution_count": 0,
      "outputs": [
        {
          "output_type": "execute_result",
          "data": {
            "text/plain": [
              "[0, 2, 4]"
            ]
          },
          "metadata": {
            "tags": []
          },
          "execution_count": 216
        }
      ]
    },
    {
      "metadata": {
        "id": "FDknXW_HTSby",
        "colab_type": "text"
      },
      "cell_type": "markdown",
      "source": [
        "[<a href=\"#Python-Quick-Reference-by-Data-School\">Back to top</a>]"
      ]
    }
  ]
}